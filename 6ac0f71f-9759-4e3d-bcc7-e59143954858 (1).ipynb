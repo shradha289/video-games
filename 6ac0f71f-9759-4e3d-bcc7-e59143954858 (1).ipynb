{
 "cells": [
  {
   "cell_type": "code",
   "execution_count": 313,
   "metadata": {},
   "outputs": [
    {
     "data": {
      "text/html": [
       "<div>\n",
       "<style scoped>\n",
       "    .dataframe tbody tr th:only-of-type {\n",
       "        vertical-align: middle;\n",
       "    }\n",
       "\n",
       "    .dataframe tbody tr th {\n",
       "        vertical-align: top;\n",
       "    }\n",
       "\n",
       "    .dataframe thead th {\n",
       "        text-align: right;\n",
       "    }\n",
       "</style>\n",
       "<table border=\"1\" class=\"dataframe\">\n",
       "  <thead>\n",
       "    <tr style=\"text-align: right;\">\n",
       "      <th></th>\n",
       "      <th>Name</th>\n",
       "      <th>Platform</th>\n",
       "      <th>Year_of_Release</th>\n",
       "      <th>Genre</th>\n",
       "      <th>NA_sales</th>\n",
       "      <th>EU_sales</th>\n",
       "      <th>JP_sales</th>\n",
       "      <th>Other_sales</th>\n",
       "      <th>Critic_Score</th>\n",
       "      <th>User_Score</th>\n",
       "      <th>Rating</th>\n",
       "    </tr>\n",
       "  </thead>\n",
       "  <tbody>\n",
       "    <tr>\n",
       "      <td>0</td>\n",
       "      <td>Wii Sports</td>\n",
       "      <td>Wii</td>\n",
       "      <td>2006.0</td>\n",
       "      <td>Sports</td>\n",
       "      <td>41.36</td>\n",
       "      <td>28.96</td>\n",
       "      <td>3.77</td>\n",
       "      <td>8.45</td>\n",
       "      <td>76.0</td>\n",
       "      <td>8</td>\n",
       "      <td>E</td>\n",
       "    </tr>\n",
       "    <tr>\n",
       "      <td>1</td>\n",
       "      <td>Super Mario Bros.</td>\n",
       "      <td>NES</td>\n",
       "      <td>1985.0</td>\n",
       "      <td>Platform</td>\n",
       "      <td>29.08</td>\n",
       "      <td>3.58</td>\n",
       "      <td>6.81</td>\n",
       "      <td>0.77</td>\n",
       "      <td>NaN</td>\n",
       "      <td>NaN</td>\n",
       "      <td>NaN</td>\n",
       "    </tr>\n",
       "    <tr>\n",
       "      <td>2</td>\n",
       "      <td>Mario Kart Wii</td>\n",
       "      <td>Wii</td>\n",
       "      <td>2008.0</td>\n",
       "      <td>Racing</td>\n",
       "      <td>15.68</td>\n",
       "      <td>12.76</td>\n",
       "      <td>3.79</td>\n",
       "      <td>3.29</td>\n",
       "      <td>82.0</td>\n",
       "      <td>8.3</td>\n",
       "      <td>E</td>\n",
       "    </tr>\n",
       "    <tr>\n",
       "      <td>3</td>\n",
       "      <td>Wii Sports Resort</td>\n",
       "      <td>Wii</td>\n",
       "      <td>2009.0</td>\n",
       "      <td>Sports</td>\n",
       "      <td>15.61</td>\n",
       "      <td>10.93</td>\n",
       "      <td>3.28</td>\n",
       "      <td>2.95</td>\n",
       "      <td>80.0</td>\n",
       "      <td>8</td>\n",
       "      <td>E</td>\n",
       "    </tr>\n",
       "    <tr>\n",
       "      <td>4</td>\n",
       "      <td>Pokemon Red/Pokemon Blue</td>\n",
       "      <td>GB</td>\n",
       "      <td>1996.0</td>\n",
       "      <td>Role-Playing</td>\n",
       "      <td>11.27</td>\n",
       "      <td>8.89</td>\n",
       "      <td>10.22</td>\n",
       "      <td>1.00</td>\n",
       "      <td>NaN</td>\n",
       "      <td>NaN</td>\n",
       "      <td>NaN</td>\n",
       "    </tr>\n",
       "  </tbody>\n",
       "</table>\n",
       "</div>"
      ],
      "text/plain": [
       "                       Name Platform  Year_of_Release         Genre  NA_sales  \\\n",
       "0                Wii Sports      Wii           2006.0        Sports     41.36   \n",
       "1         Super Mario Bros.      NES           1985.0      Platform     29.08   \n",
       "2            Mario Kart Wii      Wii           2008.0        Racing     15.68   \n",
       "3         Wii Sports Resort      Wii           2009.0        Sports     15.61   \n",
       "4  Pokemon Red/Pokemon Blue       GB           1996.0  Role-Playing     11.27   \n",
       "\n",
       "   EU_sales  JP_sales  Other_sales  Critic_Score User_Score Rating  \n",
       "0     28.96      3.77         8.45          76.0          8      E  \n",
       "1      3.58      6.81         0.77           NaN        NaN    NaN  \n",
       "2     12.76      3.79         3.29          82.0        8.3      E  \n",
       "3     10.93      3.28         2.95          80.0          8      E  \n",
       "4      8.89     10.22         1.00           NaN        NaN    NaN  "
      ]
     },
     "execution_count": 313,
     "metadata": {},
     "output_type": "execute_result"
    }
   ],
   "source": [
    "import pandas as pd\n",
    "df=pd.read_csv('/datasets/games.csv')\n",
    "df.head()"
   ]
  },
  {
   "cell_type": "code",
   "execution_count": 314,
   "metadata": {},
   "outputs": [],
   "source": [
    "df.columns=df.columns.str.lower()              #changing column names to lower case"
   ]
  },
  {
   "cell_type": "code",
   "execution_count": 315,
   "metadata": {},
   "outputs": [
    {
     "name": "stdout",
     "output_type": "stream",
     "text": [
      "<class 'pandas.core.frame.DataFrame'>\n",
      "RangeIndex: 16715 entries, 0 to 16714\n",
      "Data columns (total 11 columns):\n",
      "name               16713 non-null object\n",
      "platform           16715 non-null object\n",
      "year_of_release    16446 non-null float64\n",
      "genre              16713 non-null object\n",
      "na_sales           16715 non-null float64\n",
      "eu_sales           16715 non-null float64\n",
      "jp_sales           16715 non-null float64\n",
      "other_sales        16715 non-null float64\n",
      "critic_score       8137 non-null float64\n",
      "user_score         10014 non-null object\n",
      "rating             9949 non-null object\n",
      "dtypes: float64(6), object(5)\n",
      "memory usage: 1.4+ MB\n"
     ]
    }
   ],
   "source": [
    "df.info()"
   ]
  },
  {
   "cell_type": "markdown",
   "metadata": {},
   "source": [
    "Year of release contains some missing values. Critic score, user score and rating contain a lot of missing values.We will change the datta type of user score to float."
   ]
  },
  {
   "cell_type": "code",
   "execution_count": 316,
   "metadata": {},
   "outputs": [
    {
     "data": {
      "text/plain": [
       "array(['8', nan, '8.3', '8.5', '6.6', '8.4', '8.6', '7.7', '6.3', '7.4',\n",
       "       '8.2', '9', '7.9', '8.1', '8.7', '7.1', '3.4', '5.3', '4.8', '3.2',\n",
       "       '8.9', '6.4', '7.8', '7.5', '2.6', '7.2', '9.2', '7', '7.3', '4.3',\n",
       "       '7.6', '5.7', '5', '9.1', '6.5', 'tbd', '8.8', '6.9', '9.4', '6.8',\n",
       "       '6.1', '6.7', '5.4', '4', '4.9', '4.5', '9.3', '6.2', '4.2', '6',\n",
       "       '3.7', '4.1', '5.8', '5.6', '5.5', '4.4', '4.6', '5.9', '3.9',\n",
       "       '3.1', '2.9', '5.2', '3.3', '4.7', '5.1', '3.5', '2.5', '1.9', '3',\n",
       "       '2.7', '2.2', '2', '9.5', '2.1', '3.6', '2.8', '1.8', '3.8', '0',\n",
       "       '1.6', '9.6', '2.4', '1.7', '1.1', '0.3', '1.5', '0.7', '1.2',\n",
       "       '2.3', '0.5', '1.3', '0.2', '0.6', '1.4', '0.9', '1', '9.7'],\n",
       "      dtype=object)"
      ]
     },
     "execution_count": 316,
     "metadata": {},
     "output_type": "execute_result"
    }
   ],
   "source": [
    "df['user_score'].unique()      "
   ]
  },
  {
   "cell_type": "markdown",
   "metadata": {},
   "source": [
    "user score contains tbd to change the data type of this column to float we need to replace tbd by nan which pandas recognises and reads as missing for float type data."
   ]
  },
  {
   "cell_type": "code",
   "execution_count": 317,
   "metadata": {},
   "outputs": [],
   "source": [
    "import numpy as np\n",
    "df.loc[df['user_score']=='tbd','user_score']=np.nan"
   ]
  },
  {
   "cell_type": "code",
   "execution_count": 318,
   "metadata": {},
   "outputs": [],
   "source": [
    "df['user_score']=df['user_score'].astype(float)   #changing data type to float"
   ]
  },
  {
   "cell_type": "code",
   "execution_count": 319,
   "metadata": {},
   "outputs": [
    {
     "data": {
      "text/plain": [
       "array(['E', nan, 'M', 'T', 'E10+', 'K-A', 'AO', 'EC', 'RP'], dtype=object)"
      ]
     },
     "execution_count": 319,
     "metadata": {},
     "output_type": "execute_result"
    }
   ],
   "source": [
    "df['rating'].unique()"
   ]
  },
  {
   "cell_type": "markdown",
   "metadata": {},
   "source": [
    "Since rating is based on the content of the game we fill missing rating for a game only if the rating for the same game on some other platform is available otherwise we leave it as it is.  "
   ]
  },
  {
   "cell_type": "code",
   "execution_count": 320,
   "metadata": {},
   "outputs": [],
   "source": [
    "rating=df.pivot_table(index=['name','rating'],values='platform',aggfunc='count').reset_index()\n",
    "def find(row):\n",
    "    n=row['name']\n",
    "    #print(n)\n",
    "    if row['platform']==rating[rating['name']==n]['platform'].max():\n",
    "        return 1\n",
    "    return 0\n",
    "rating['max']=rating.apply(find,axis=1)\n",
    "rating=rating[rating['max']==1][['name','rating']]"
   ]
  },
  {
   "cell_type": "code",
   "execution_count": 321,
   "metadata": {},
   "outputs": [],
   "source": [
    "rating=rating.set_index('name')\n",
    "rating=rating.to_dict()    "
   ]
  },
  {
   "cell_type": "code",
   "execution_count": 322,
   "metadata": {},
   "outputs": [],
   "source": [
    "def fillrate(row):\n",
    "    n=row['name']\n",
    "    if n in rating['rating'].keys():\n",
    "        if type(row['rating'])==float:\n",
    "            row['rating']=rating['rating'][n]\n",
    "            return row['rating']\n",
    "    return row['rating']\n",
    "df['rating']=df.apply(fillrate,axis=1)\n"
   ]
  },
  {
   "cell_type": "code",
   "execution_count": 323,
   "metadata": {},
   "outputs": [],
   "source": [
    "#total sales for each game\n",
    "df['total_sales']=df['na_sales']+df['eu_sales']+df['jp_sales']+df['other_sales']"
   ]
  },
  {
   "cell_type": "code",
   "execution_count": 324,
   "metadata": {},
   "outputs": [
    {
     "data": {
      "text/plain": [
       "name               0.016093\n",
       "platform           0.016093\n",
       "year_of_release    0.000000\n",
       "genre              0.016093\n",
       "na_sales           0.016093\n",
       "eu_sales           0.016093\n",
       "jp_sales           0.016093\n",
       "other_sales        0.016093\n",
       "critic_score       0.009213\n",
       "user_score         0.007598\n",
       "rating             0.011726\n",
       "total_sales        0.016093\n",
       "dtype: float64"
      ]
     },
     "execution_count": 324,
     "metadata": {},
     "output_type": "execute_result"
    }
   ],
   "source": [
    "df[df['year_of_release'].isnull()].count()/len(df)"
   ]
  },
  {
   "cell_type": "markdown",
   "metadata": {},
   "source": [
    "Data for which year is missing accounts for 1.6% of our data. Hence we can leave missing year as it is."
   ]
  },
  {
   "cell_type": "code",
   "execution_count": 325,
   "metadata": {},
   "outputs": [
    {
     "data": {
      "text/plain": [
       "5.239999999999999"
      ]
     },
     "execution_count": 325,
     "metadata": {},
     "output_type": "execute_result"
    }
   ],
   "source": [
    "df[df['year_of_release'].isnull()]['total_sales'].max()          "
   ]
  },
  {
   "cell_type": "code",
   "execution_count": 326,
   "metadata": {},
   "outputs": [
    {
     "data": {
      "text/plain": [
       "82.53999999999999"
      ]
     },
     "execution_count": 326,
     "metadata": {},
     "output_type": "execute_result"
    }
   ],
   "source": [
    "df['total_sales'].max()"
   ]
  },
  {
   "cell_type": "markdown",
   "metadata": {},
   "source": [
    "The rows for which year of release is missing is not very important as the total sales maximum value is very small as compared to that for the entire data."
   ]
  },
  {
   "cell_type": "code",
   "execution_count": 329,
   "metadata": {},
   "outputs": [
    {
     "name": "stdout",
     "output_type": "stream",
     "text": [
      "<class 'pandas.core.frame.DataFrame'>\n",
      "RangeIndex: 16715 entries, 0 to 16714\n",
      "Data columns (total 12 columns):\n",
      "name               16713 non-null object\n",
      "platform           16715 non-null object\n",
      "year_of_release    16446 non-null float64\n",
      "genre              16713 non-null object\n",
      "na_sales           16715 non-null float64\n",
      "eu_sales           16715 non-null float64\n",
      "jp_sales           16715 non-null float64\n",
      "other_sales        16715 non-null float64\n",
      "critic_score       8137 non-null float64\n",
      "user_score         7590 non-null float64\n",
      "rating             10386 non-null object\n",
      "total_sales        16715 non-null float64\n",
      "dtypes: float64(8), object(4)\n",
      "memory usage: 1.5+ MB\n"
     ]
    }
   ],
   "source": [
    "df.info()"
   ]
  },
  {
   "cell_type": "markdown",
   "metadata": {},
   "source": [
    "# Analyzing the data"
   ]
  },
  {
   "cell_type": "code",
   "execution_count": 330,
   "metadata": {},
   "outputs": [
    {
     "data": {
      "text/html": [
       "<div>\n",
       "<style scoped>\n",
       "    .dataframe tbody tr th:only-of-type {\n",
       "        vertical-align: middle;\n",
       "    }\n",
       "\n",
       "    .dataframe tbody tr th {\n",
       "        vertical-align: top;\n",
       "    }\n",
       "\n",
       "    .dataframe thead th {\n",
       "        text-align: right;\n",
       "    }\n",
       "</style>\n",
       "<table border=\"1\" class=\"dataframe\">\n",
       "  <thead>\n",
       "    <tr style=\"text-align: right;\">\n",
       "      <th></th>\n",
       "      <th>name</th>\n",
       "      <th>platform</th>\n",
       "      <th>genre</th>\n",
       "      <th>na_sales</th>\n",
       "      <th>eu_sales</th>\n",
       "      <th>jp_sales</th>\n",
       "      <th>other_sales</th>\n",
       "      <th>critic_score</th>\n",
       "      <th>user_score</th>\n",
       "      <th>rating</th>\n",
       "      <th>total_sales</th>\n",
       "    </tr>\n",
       "    <tr>\n",
       "      <th>year_of_release</th>\n",
       "      <th></th>\n",
       "      <th></th>\n",
       "      <th></th>\n",
       "      <th></th>\n",
       "      <th></th>\n",
       "      <th></th>\n",
       "      <th></th>\n",
       "      <th></th>\n",
       "      <th></th>\n",
       "      <th></th>\n",
       "      <th></th>\n",
       "    </tr>\n",
       "  </thead>\n",
       "  <tbody>\n",
       "    <tr>\n",
       "      <td>2008.0</td>\n",
       "      <td>1427</td>\n",
       "      <td>1427</td>\n",
       "      <td>1427</td>\n",
       "      <td>1427</td>\n",
       "      <td>1427</td>\n",
       "      <td>1427</td>\n",
       "      <td>1427</td>\n",
       "      <td>715</td>\n",
       "      <td>661</td>\n",
       "      <td>996</td>\n",
       "      <td>1427</td>\n",
       "    </tr>\n",
       "    <tr>\n",
       "      <td>2009.0</td>\n",
       "      <td>1426</td>\n",
       "      <td>1426</td>\n",
       "      <td>1426</td>\n",
       "      <td>1426</td>\n",
       "      <td>1426</td>\n",
       "      <td>1426</td>\n",
       "      <td>1426</td>\n",
       "      <td>651</td>\n",
       "      <td>614</td>\n",
       "      <td>1024</td>\n",
       "      <td>1426</td>\n",
       "    </tr>\n",
       "    <tr>\n",
       "      <td>2010.0</td>\n",
       "      <td>1255</td>\n",
       "      <td>1255</td>\n",
       "      <td>1255</td>\n",
       "      <td>1255</td>\n",
       "      <td>1255</td>\n",
       "      <td>1255</td>\n",
       "      <td>1255</td>\n",
       "      <td>500</td>\n",
       "      <td>467</td>\n",
       "      <td>824</td>\n",
       "      <td>1255</td>\n",
       "    </tr>\n",
       "    <tr>\n",
       "      <td>2007.0</td>\n",
       "      <td>1197</td>\n",
       "      <td>1197</td>\n",
       "      <td>1197</td>\n",
       "      <td>1197</td>\n",
       "      <td>1197</td>\n",
       "      <td>1197</td>\n",
       "      <td>1197</td>\n",
       "      <td>692</td>\n",
       "      <td>629</td>\n",
       "      <td>833</td>\n",
       "      <td>1197</td>\n",
       "    </tr>\n",
       "    <tr>\n",
       "      <td>2011.0</td>\n",
       "      <td>1136</td>\n",
       "      <td>1136</td>\n",
       "      <td>1136</td>\n",
       "      <td>1136</td>\n",
       "      <td>1136</td>\n",
       "      <td>1136</td>\n",
       "      <td>1136</td>\n",
       "      <td>500</td>\n",
       "      <td>501</td>\n",
       "      <td>730</td>\n",
       "      <td>1136</td>\n",
       "    </tr>\n",
       "    <tr>\n",
       "      <td>2006.0</td>\n",
       "      <td>1006</td>\n",
       "      <td>1006</td>\n",
       "      <td>1006</td>\n",
       "      <td>1006</td>\n",
       "      <td>1006</td>\n",
       "      <td>1006</td>\n",
       "      <td>1006</td>\n",
       "      <td>620</td>\n",
       "      <td>552</td>\n",
       "      <td>687</td>\n",
       "      <td>1006</td>\n",
       "    </tr>\n",
       "    <tr>\n",
       "      <td>2005.0</td>\n",
       "      <td>939</td>\n",
       "      <td>939</td>\n",
       "      <td>939</td>\n",
       "      <td>939</td>\n",
       "      <td>939</td>\n",
       "      <td>939</td>\n",
       "      <td>939</td>\n",
       "      <td>655</td>\n",
       "      <td>583</td>\n",
       "      <td>722</td>\n",
       "      <td>939</td>\n",
       "    </tr>\n",
       "    <tr>\n",
       "      <td>2002.0</td>\n",
       "      <td>829</td>\n",
       "      <td>829</td>\n",
       "      <td>829</td>\n",
       "      <td>829</td>\n",
       "      <td>829</td>\n",
       "      <td>829</td>\n",
       "      <td>829</td>\n",
       "      <td>627</td>\n",
       "      <td>464</td>\n",
       "      <td>668</td>\n",
       "      <td>829</td>\n",
       "    </tr>\n",
       "    <tr>\n",
       "      <td>2003.0</td>\n",
       "      <td>775</td>\n",
       "      <td>775</td>\n",
       "      <td>775</td>\n",
       "      <td>775</td>\n",
       "      <td>775</td>\n",
       "      <td>775</td>\n",
       "      <td>775</td>\n",
       "      <td>585</td>\n",
       "      <td>516</td>\n",
       "      <td>628</td>\n",
       "      <td>775</td>\n",
       "    </tr>\n",
       "    <tr>\n",
       "      <td>2004.0</td>\n",
       "      <td>762</td>\n",
       "      <td>762</td>\n",
       "      <td>762</td>\n",
       "      <td>762</td>\n",
       "      <td>762</td>\n",
       "      <td>762</td>\n",
       "      <td>762</td>\n",
       "      <td>561</td>\n",
       "      <td>489</td>\n",
       "      <td>615</td>\n",
       "      <td>762</td>\n",
       "    </tr>\n",
       "    <tr>\n",
       "      <td>2012.0</td>\n",
       "      <td>653</td>\n",
       "      <td>653</td>\n",
       "      <td>653</td>\n",
       "      <td>653</td>\n",
       "      <td>653</td>\n",
       "      <td>653</td>\n",
       "      <td>653</td>\n",
       "      <td>321</td>\n",
       "      <td>339</td>\n",
       "      <td>382</td>\n",
       "      <td>653</td>\n",
       "    </tr>\n",
       "    <tr>\n",
       "      <td>2015.0</td>\n",
       "      <td>606</td>\n",
       "      <td>606</td>\n",
       "      <td>606</td>\n",
       "      <td>606</td>\n",
       "      <td>606</td>\n",
       "      <td>606</td>\n",
       "      <td>606</td>\n",
       "      <td>225</td>\n",
       "      <td>297</td>\n",
       "      <td>364</td>\n",
       "      <td>606</td>\n",
       "    </tr>\n",
       "    <tr>\n",
       "      <td>2014.0</td>\n",
       "      <td>581</td>\n",
       "      <td>581</td>\n",
       "      <td>581</td>\n",
       "      <td>581</td>\n",
       "      <td>581</td>\n",
       "      <td>581</td>\n",
       "      <td>581</td>\n",
       "      <td>261</td>\n",
       "      <td>329</td>\n",
       "      <td>372</td>\n",
       "      <td>581</td>\n",
       "    </tr>\n",
       "    <tr>\n",
       "      <td>2013.0</td>\n",
       "      <td>544</td>\n",
       "      <td>544</td>\n",
       "      <td>544</td>\n",
       "      <td>544</td>\n",
       "      <td>544</td>\n",
       "      <td>544</td>\n",
       "      <td>544</td>\n",
       "      <td>273</td>\n",
       "      <td>304</td>\n",
       "      <td>346</td>\n",
       "      <td>544</td>\n",
       "    </tr>\n",
       "    <tr>\n",
       "      <td>2016.0</td>\n",
       "      <td>502</td>\n",
       "      <td>502</td>\n",
       "      <td>502</td>\n",
       "      <td>502</td>\n",
       "      <td>502</td>\n",
       "      <td>502</td>\n",
       "      <td>502</td>\n",
       "      <td>232</td>\n",
       "      <td>262</td>\n",
       "      <td>298</td>\n",
       "      <td>502</td>\n",
       "    </tr>\n",
       "    <tr>\n",
       "      <td>2001.0</td>\n",
       "      <td>482</td>\n",
       "      <td>482</td>\n",
       "      <td>482</td>\n",
       "      <td>482</td>\n",
       "      <td>482</td>\n",
       "      <td>482</td>\n",
       "      <td>482</td>\n",
       "      <td>326</td>\n",
       "      <td>257</td>\n",
       "      <td>352</td>\n",
       "      <td>482</td>\n",
       "    </tr>\n",
       "    <tr>\n",
       "      <td>1998.0</td>\n",
       "      <td>379</td>\n",
       "      <td>379</td>\n",
       "      <td>379</td>\n",
       "      <td>379</td>\n",
       "      <td>379</td>\n",
       "      <td>379</td>\n",
       "      <td>379</td>\n",
       "      <td>28</td>\n",
       "      <td>31</td>\n",
       "      <td>41</td>\n",
       "      <td>379</td>\n",
       "    </tr>\n",
       "    <tr>\n",
       "      <td>2000.0</td>\n",
       "      <td>350</td>\n",
       "      <td>350</td>\n",
       "      <td>350</td>\n",
       "      <td>350</td>\n",
       "      <td>350</td>\n",
       "      <td>350</td>\n",
       "      <td>350</td>\n",
       "      <td>143</td>\n",
       "      <td>107</td>\n",
       "      <td>167</td>\n",
       "      <td>350</td>\n",
       "    </tr>\n",
       "    <tr>\n",
       "      <td>1999.0</td>\n",
       "      <td>338</td>\n",
       "      <td>338</td>\n",
       "      <td>338</td>\n",
       "      <td>338</td>\n",
       "      <td>338</td>\n",
       "      <td>338</td>\n",
       "      <td>338</td>\n",
       "      <td>39</td>\n",
       "      <td>31</td>\n",
       "      <td>52</td>\n",
       "      <td>338</td>\n",
       "    </tr>\n",
       "    <tr>\n",
       "      <td>1997.0</td>\n",
       "      <td>289</td>\n",
       "      <td>289</td>\n",
       "      <td>289</td>\n",
       "      <td>289</td>\n",
       "      <td>289</td>\n",
       "      <td>289</td>\n",
       "      <td>289</td>\n",
       "      <td>17</td>\n",
       "      <td>18</td>\n",
       "      <td>35</td>\n",
       "      <td>289</td>\n",
       "    </tr>\n",
       "    <tr>\n",
       "      <td>1996.0</td>\n",
       "      <td>263</td>\n",
       "      <td>263</td>\n",
       "      <td>263</td>\n",
       "      <td>263</td>\n",
       "      <td>263</td>\n",
       "      <td>263</td>\n",
       "      <td>263</td>\n",
       "      <td>8</td>\n",
       "      <td>8</td>\n",
       "      <td>10</td>\n",
       "      <td>263</td>\n",
       "    </tr>\n",
       "    <tr>\n",
       "      <td>1995.0</td>\n",
       "      <td>219</td>\n",
       "      <td>219</td>\n",
       "      <td>219</td>\n",
       "      <td>219</td>\n",
       "      <td>219</td>\n",
       "      <td>219</td>\n",
       "      <td>219</td>\n",
       "      <td>0</td>\n",
       "      <td>0</td>\n",
       "      <td>9</td>\n",
       "      <td>219</td>\n",
       "    </tr>\n",
       "    <tr>\n",
       "      <td>1994.0</td>\n",
       "      <td>121</td>\n",
       "      <td>121</td>\n",
       "      <td>121</td>\n",
       "      <td>121</td>\n",
       "      <td>121</td>\n",
       "      <td>121</td>\n",
       "      <td>121</td>\n",
       "      <td>1</td>\n",
       "      <td>1</td>\n",
       "      <td>15</td>\n",
       "      <td>121</td>\n",
       "    </tr>\n",
       "    <tr>\n",
       "      <td>1993.0</td>\n",
       "      <td>60</td>\n",
       "      <td>62</td>\n",
       "      <td>60</td>\n",
       "      <td>62</td>\n",
       "      <td>62</td>\n",
       "      <td>62</td>\n",
       "      <td>62</td>\n",
       "      <td>0</td>\n",
       "      <td>0</td>\n",
       "      <td>1</td>\n",
       "      <td>62</td>\n",
       "    </tr>\n",
       "    <tr>\n",
       "      <td>1981.0</td>\n",
       "      <td>46</td>\n",
       "      <td>46</td>\n",
       "      <td>46</td>\n",
       "      <td>46</td>\n",
       "      <td>46</td>\n",
       "      <td>46</td>\n",
       "      <td>46</td>\n",
       "      <td>0</td>\n",
       "      <td>0</td>\n",
       "      <td>1</td>\n",
       "      <td>46</td>\n",
       "    </tr>\n",
       "    <tr>\n",
       "      <td>1992.0</td>\n",
       "      <td>43</td>\n",
       "      <td>43</td>\n",
       "      <td>43</td>\n",
       "      <td>43</td>\n",
       "      <td>43</td>\n",
       "      <td>43</td>\n",
       "      <td>43</td>\n",
       "      <td>1</td>\n",
       "      <td>1</td>\n",
       "      <td>7</td>\n",
       "      <td>43</td>\n",
       "    </tr>\n",
       "    <tr>\n",
       "      <td>1991.0</td>\n",
       "      <td>41</td>\n",
       "      <td>41</td>\n",
       "      <td>41</td>\n",
       "      <td>41</td>\n",
       "      <td>41</td>\n",
       "      <td>41</td>\n",
       "      <td>41</td>\n",
       "      <td>0</td>\n",
       "      <td>0</td>\n",
       "      <td>4</td>\n",
       "      <td>41</td>\n",
       "    </tr>\n",
       "    <tr>\n",
       "      <td>1982.0</td>\n",
       "      <td>36</td>\n",
       "      <td>36</td>\n",
       "      <td>36</td>\n",
       "      <td>36</td>\n",
       "      <td>36</td>\n",
       "      <td>36</td>\n",
       "      <td>36</td>\n",
       "      <td>0</td>\n",
       "      <td>0</td>\n",
       "      <td>1</td>\n",
       "      <td>36</td>\n",
       "    </tr>\n",
       "    <tr>\n",
       "      <td>1986.0</td>\n",
       "      <td>21</td>\n",
       "      <td>21</td>\n",
       "      <td>21</td>\n",
       "      <td>21</td>\n",
       "      <td>21</td>\n",
       "      <td>21</td>\n",
       "      <td>21</td>\n",
       "      <td>0</td>\n",
       "      <td>0</td>\n",
       "      <td>0</td>\n",
       "      <td>21</td>\n",
       "    </tr>\n",
       "    <tr>\n",
       "      <td>1989.0</td>\n",
       "      <td>17</td>\n",
       "      <td>17</td>\n",
       "      <td>17</td>\n",
       "      <td>17</td>\n",
       "      <td>17</td>\n",
       "      <td>17</td>\n",
       "      <td>17</td>\n",
       "      <td>0</td>\n",
       "      <td>0</td>\n",
       "      <td>1</td>\n",
       "      <td>17</td>\n",
       "    </tr>\n",
       "    <tr>\n",
       "      <td>1983.0</td>\n",
       "      <td>17</td>\n",
       "      <td>17</td>\n",
       "      <td>17</td>\n",
       "      <td>17</td>\n",
       "      <td>17</td>\n",
       "      <td>17</td>\n",
       "      <td>17</td>\n",
       "      <td>0</td>\n",
       "      <td>0</td>\n",
       "      <td>0</td>\n",
       "      <td>17</td>\n",
       "    </tr>\n",
       "    <tr>\n",
       "      <td>1990.0</td>\n",
       "      <td>16</td>\n",
       "      <td>16</td>\n",
       "      <td>16</td>\n",
       "      <td>16</td>\n",
       "      <td>16</td>\n",
       "      <td>16</td>\n",
       "      <td>16</td>\n",
       "      <td>0</td>\n",
       "      <td>0</td>\n",
       "      <td>1</td>\n",
       "      <td>16</td>\n",
       "    </tr>\n",
       "    <tr>\n",
       "      <td>1987.0</td>\n",
       "      <td>16</td>\n",
       "      <td>16</td>\n",
       "      <td>16</td>\n",
       "      <td>16</td>\n",
       "      <td>16</td>\n",
       "      <td>16</td>\n",
       "      <td>16</td>\n",
       "      <td>0</td>\n",
       "      <td>0</td>\n",
       "      <td>0</td>\n",
       "      <td>16</td>\n",
       "    </tr>\n",
       "    <tr>\n",
       "      <td>1988.0</td>\n",
       "      <td>15</td>\n",
       "      <td>15</td>\n",
       "      <td>15</td>\n",
       "      <td>15</td>\n",
       "      <td>15</td>\n",
       "      <td>15</td>\n",
       "      <td>15</td>\n",
       "      <td>1</td>\n",
       "      <td>1</td>\n",
       "      <td>1</td>\n",
       "      <td>15</td>\n",
       "    </tr>\n",
       "    <tr>\n",
       "      <td>1985.0</td>\n",
       "      <td>14</td>\n",
       "      <td>14</td>\n",
       "      <td>14</td>\n",
       "      <td>14</td>\n",
       "      <td>14</td>\n",
       "      <td>14</td>\n",
       "      <td>14</td>\n",
       "      <td>1</td>\n",
       "      <td>1</td>\n",
       "      <td>2</td>\n",
       "      <td>14</td>\n",
       "    </tr>\n",
       "    <tr>\n",
       "      <td>1984.0</td>\n",
       "      <td>14</td>\n",
       "      <td>14</td>\n",
       "      <td>14</td>\n",
       "      <td>14</td>\n",
       "      <td>14</td>\n",
       "      <td>14</td>\n",
       "      <td>14</td>\n",
       "      <td>0</td>\n",
       "      <td>0</td>\n",
       "      <td>0</td>\n",
       "      <td>14</td>\n",
       "    </tr>\n",
       "    <tr>\n",
       "      <td>1980.0</td>\n",
       "      <td>9</td>\n",
       "      <td>9</td>\n",
       "      <td>9</td>\n",
       "      <td>9</td>\n",
       "      <td>9</td>\n",
       "      <td>9</td>\n",
       "      <td>9</td>\n",
       "      <td>0</td>\n",
       "      <td>0</td>\n",
       "      <td>1</td>\n",
       "      <td>9</td>\n",
       "    </tr>\n",
       "  </tbody>\n",
       "</table>\n",
       "</div>"
      ],
      "text/plain": [
       "                 name  platform  genre  na_sales  eu_sales  jp_sales  \\\n",
       "year_of_release                                                        \n",
       "2008.0           1427      1427   1427      1427      1427      1427   \n",
       "2009.0           1426      1426   1426      1426      1426      1426   \n",
       "2010.0           1255      1255   1255      1255      1255      1255   \n",
       "2007.0           1197      1197   1197      1197      1197      1197   \n",
       "2011.0           1136      1136   1136      1136      1136      1136   \n",
       "2006.0           1006      1006   1006      1006      1006      1006   \n",
       "2005.0            939       939    939       939       939       939   \n",
       "2002.0            829       829    829       829       829       829   \n",
       "2003.0            775       775    775       775       775       775   \n",
       "2004.0            762       762    762       762       762       762   \n",
       "2012.0            653       653    653       653       653       653   \n",
       "2015.0            606       606    606       606       606       606   \n",
       "2014.0            581       581    581       581       581       581   \n",
       "2013.0            544       544    544       544       544       544   \n",
       "2016.0            502       502    502       502       502       502   \n",
       "2001.0            482       482    482       482       482       482   \n",
       "1998.0            379       379    379       379       379       379   \n",
       "2000.0            350       350    350       350       350       350   \n",
       "1999.0            338       338    338       338       338       338   \n",
       "1997.0            289       289    289       289       289       289   \n",
       "1996.0            263       263    263       263       263       263   \n",
       "1995.0            219       219    219       219       219       219   \n",
       "1994.0            121       121    121       121       121       121   \n",
       "1993.0             60        62     60        62        62        62   \n",
       "1981.0             46        46     46        46        46        46   \n",
       "1992.0             43        43     43        43        43        43   \n",
       "1991.0             41        41     41        41        41        41   \n",
       "1982.0             36        36     36        36        36        36   \n",
       "1986.0             21        21     21        21        21        21   \n",
       "1989.0             17        17     17        17        17        17   \n",
       "1983.0             17        17     17        17        17        17   \n",
       "1990.0             16        16     16        16        16        16   \n",
       "1987.0             16        16     16        16        16        16   \n",
       "1988.0             15        15     15        15        15        15   \n",
       "1985.0             14        14     14        14        14        14   \n",
       "1984.0             14        14     14        14        14        14   \n",
       "1980.0              9         9      9         9         9         9   \n",
       "\n",
       "                 other_sales  critic_score  user_score  rating  total_sales  \n",
       "year_of_release                                                              \n",
       "2008.0                  1427           715         661     996         1427  \n",
       "2009.0                  1426           651         614    1024         1426  \n",
       "2010.0                  1255           500         467     824         1255  \n",
       "2007.0                  1197           692         629     833         1197  \n",
       "2011.0                  1136           500         501     730         1136  \n",
       "2006.0                  1006           620         552     687         1006  \n",
       "2005.0                   939           655         583     722          939  \n",
       "2002.0                   829           627         464     668          829  \n",
       "2003.0                   775           585         516     628          775  \n",
       "2004.0                   762           561         489     615          762  \n",
       "2012.0                   653           321         339     382          653  \n",
       "2015.0                   606           225         297     364          606  \n",
       "2014.0                   581           261         329     372          581  \n",
       "2013.0                   544           273         304     346          544  \n",
       "2016.0                   502           232         262     298          502  \n",
       "2001.0                   482           326         257     352          482  \n",
       "1998.0                   379            28          31      41          379  \n",
       "2000.0                   350           143         107     167          350  \n",
       "1999.0                   338            39          31      52          338  \n",
       "1997.0                   289            17          18      35          289  \n",
       "1996.0                   263             8           8      10          263  \n",
       "1995.0                   219             0           0       9          219  \n",
       "1994.0                   121             1           1      15          121  \n",
       "1993.0                    62             0           0       1           62  \n",
       "1981.0                    46             0           0       1           46  \n",
       "1992.0                    43             1           1       7           43  \n",
       "1991.0                    41             0           0       4           41  \n",
       "1982.0                    36             0           0       1           36  \n",
       "1986.0                    21             0           0       0           21  \n",
       "1989.0                    17             0           0       1           17  \n",
       "1983.0                    17             0           0       0           17  \n",
       "1990.0                    16             0           0       1           16  \n",
       "1987.0                    16             0           0       0           16  \n",
       "1988.0                    15             1           1       1           15  \n",
       "1985.0                    14             1           1       2           14  \n",
       "1984.0                    14             0           0       0           14  \n",
       "1980.0                     9             0           0       1            9  "
      ]
     },
     "execution_count": 330,
     "metadata": {},
     "output_type": "execute_result"
    }
   ],
   "source": [
    "#grouping data by year\n",
    "df.groupby('year_of_release').count().sort_values('platform',ascending=False)"
   ]
  },
  {
   "cell_type": "code",
   "execution_count": 331,
   "metadata": {},
   "outputs": [
    {
     "data": {
      "text/plain": [
       "Text(0, 0.5, 'number of games released')"
      ]
     },
     "execution_count": 331,
     "metadata": {},
     "output_type": "execute_result"
    },
    {
     "data": {
      "image/png": "[encoded data removed]",
      "text/plain": [
       "<Figure size 864x576 with 1 Axes>"
      ]
     },
     "metadata": {
      "needs_background": "light"
     },
     "output_type": "display_data"
    }
   ],
   "source": [
    "import matplotlib.pyplot as plt\n",
    "df.groupby('year_of_release').count().plot(y='platform',figsize=(12,8))\n",
    "plt.xlabel('year of release of game')\n",
    "plt.ylabel('number of games released')"
   ]
  },
  {
   "cell_type": "markdown",
   "metadata": {},
   "source": [
    "The time period of our dataset ranges from 1980 to 2016.We see that from 1999 to 2008 sales have increased and then they have fallen consistently till 2016 except for a rise in 2014 and 2015.For forecasting sales and planning campaign for 2017 data upto 1999 is not significant.Also for many years befor 1995 the critic score and user score is missing for all games released in that year and it is probably because that data is too old.The two missing names of games belong to year 1993. Most of the missing values in our data belong to old time period(1980-1994)."
   ]
  },
  {
   "cell_type": "code",
   "execution_count": 332,
   "metadata": {},
   "outputs": [
    {
     "data": {
      "text/plain": [
       "name               0.120029\n",
       "platform           0.120151\n",
       "year_of_release    0.120151\n",
       "genre              0.120029\n",
       "na_sales           0.120151\n",
       "eu_sales           0.120151\n",
       "jp_sales           0.120151\n",
       "other_sales        0.120151\n",
       "critic_score       0.005837\n",
       "user_score         0.005594\n",
       "rating             0.011067\n",
       "total_sales        0.120151\n",
       "dtype: float64"
      ]
     },
     "execution_count": 332,
     "metadata": {},
     "output_type": "execute_result"
    }
   ],
   "source": [
    "df[df['year_of_release']<=1999].count()/df['year_of_release'].count()"
   ]
  },
  {
   "cell_type": "markdown",
   "metadata": {},
   "source": [
    "Although data before 1999 is not significant for this analysis but we loose about 12% data."
   ]
  },
  {
   "cell_type": "code",
   "execution_count": 333,
   "metadata": {},
   "outputs": [
    {
     "data": {
      "text/plain": [
       "year_of_release\n",
       "1989.0    4.320588\n",
       "1985.0    3.853571\n",
       "1984.0    3.596429\n",
       "1988.0    3.147333\n",
       "1990.0    3.085625\n",
       "Name: total_sales, dtype: float64"
      ]
     },
     "execution_count": 333,
     "metadata": {},
     "output_type": "execute_result"
    }
   ],
   "source": [
    "df.groupby('year_of_release')['total_sales'].mean().sort_values(ascending=False).head()"
   ]
  },
  {
   "cell_type": "markdown",
   "metadata": {},
   "source": [
    "We find something interesting here. Although the number of games released in 1989 is only 17 but still it recorded the highest average sales which means that sales were very high in this year as compared to all other years."
   ]
  },
  {
   "cell_type": "code",
   "execution_count": 334,
   "metadata": {},
   "outputs": [
    {
     "data": {
      "text/plain": [
       "Text(0, 0.5, 'total_sales')"
      ]
     },
     "execution_count": 334,
     "metadata": {},
     "output_type": "execute_result"
    },
    {
     "data": {
      "image/png": "[encoded data removed]",
      "text/plain": [
       "<Figure size 720x576 with 1 Axes>"
      ]
     },
     "metadata": {
      "needs_background": "light"
     },
     "output_type": "display_data"
    }
   ],
   "source": [
    "import matplotlib.pyplot as plt\n",
    "a=df[df['year_of_release']==1989]['platform']\n",
    "b=df[df['year_of_release']==1989]['total_sales']\n",
    "plt.figure(figsize=(10,8))\n",
    "plt.scatter(x=a,y=b,alpha=0.6)\n",
    "plt.title('Total sales for year 1989')\n",
    "plt.xlabel('platform')\n",
    "plt.ylabel('total_sales')\n"
   ]
  },
  {
   "cell_type": "markdown",
   "metadata": {},
   "source": [
    "The reason for the large average is that GB had a huge sale in 1989"
   ]
  },
  {
   "cell_type": "code",
   "execution_count": 335,
   "metadata": {},
   "outputs": [
    {
     "data": {
      "text/html": [
       "<div>\n",
       "<style scoped>\n",
       "    .dataframe tbody tr th:only-of-type {\n",
       "        vertical-align: middle;\n",
       "    }\n",
       "\n",
       "    .dataframe tbody tr th {\n",
       "        vertical-align: top;\n",
       "    }\n",
       "\n",
       "    .dataframe thead th {\n",
       "        text-align: right;\n",
       "    }\n",
       "</style>\n",
       "<table border=\"1\" class=\"dataframe\">\n",
       "  <thead>\n",
       "    <tr style=\"text-align: right;\">\n",
       "      <th></th>\n",
       "      <th>name</th>\n",
       "      <th>year_of_release</th>\n",
       "      <th>genre</th>\n",
       "      <th>na_sales</th>\n",
       "      <th>eu_sales</th>\n",
       "      <th>jp_sales</th>\n",
       "      <th>other_sales</th>\n",
       "      <th>critic_score</th>\n",
       "      <th>user_score</th>\n",
       "      <th>rating</th>\n",
       "      <th>total_sales</th>\n",
       "    </tr>\n",
       "    <tr>\n",
       "      <th>platform</th>\n",
       "      <th></th>\n",
       "      <th></th>\n",
       "      <th></th>\n",
       "      <th></th>\n",
       "      <th></th>\n",
       "      <th></th>\n",
       "      <th></th>\n",
       "      <th></th>\n",
       "      <th></th>\n",
       "      <th></th>\n",
       "      <th></th>\n",
       "    </tr>\n",
       "  </thead>\n",
       "  <tbody>\n",
       "    <tr>\n",
       "      <td>PS2</td>\n",
       "      <td>2161</td>\n",
       "      <td>2127</td>\n",
       "      <td>2161</td>\n",
       "      <td>2161</td>\n",
       "      <td>2161</td>\n",
       "      <td>2161</td>\n",
       "      <td>2161</td>\n",
       "      <td>1298</td>\n",
       "      <td>1241</td>\n",
       "      <td>1503</td>\n",
       "      <td>2161</td>\n",
       "    </tr>\n",
       "    <tr>\n",
       "      <td>DS</td>\n",
       "      <td>2151</td>\n",
       "      <td>2121</td>\n",
       "      <td>2151</td>\n",
       "      <td>2151</td>\n",
       "      <td>2151</td>\n",
       "      <td>2151</td>\n",
       "      <td>2151</td>\n",
       "      <td>717</td>\n",
       "      <td>516</td>\n",
       "      <td>1303</td>\n",
       "      <td>2151</td>\n",
       "    </tr>\n",
       "    <tr>\n",
       "      <td>PS3</td>\n",
       "      <td>1331</td>\n",
       "      <td>1306</td>\n",
       "      <td>1331</td>\n",
       "      <td>1331</td>\n",
       "      <td>1331</td>\n",
       "      <td>1331</td>\n",
       "      <td>1331</td>\n",
       "      <td>820</td>\n",
       "      <td>877</td>\n",
       "      <td>992</td>\n",
       "      <td>1331</td>\n",
       "    </tr>\n",
       "    <tr>\n",
       "      <td>Wii</td>\n",
       "      <td>1320</td>\n",
       "      <td>1286</td>\n",
       "      <td>1320</td>\n",
       "      <td>1320</td>\n",
       "      <td>1320</td>\n",
       "      <td>1320</td>\n",
       "      <td>1320</td>\n",
       "      <td>585</td>\n",
       "      <td>560</td>\n",
       "      <td>1024</td>\n",
       "      <td>1320</td>\n",
       "    </tr>\n",
       "    <tr>\n",
       "      <td>X360</td>\n",
       "      <td>1262</td>\n",
       "      <td>1232</td>\n",
       "      <td>1262</td>\n",
       "      <td>1262</td>\n",
       "      <td>1262</td>\n",
       "      <td>1262</td>\n",
       "      <td>1262</td>\n",
       "      <td>916</td>\n",
       "      <td>966</td>\n",
       "      <td>1079</td>\n",
       "      <td>1262</td>\n",
       "    </tr>\n",
       "  </tbody>\n",
       "</table>\n",
       "</div>"
      ],
      "text/plain": [
       "          name  year_of_release  genre  na_sales  eu_sales  jp_sales  \\\n",
       "platform                                                               \n",
       "PS2       2161             2127   2161      2161      2161      2161   \n",
       "DS        2151             2121   2151      2151      2151      2151   \n",
       "PS3       1331             1306   1331      1331      1331      1331   \n",
       "Wii       1320             1286   1320      1320      1320      1320   \n",
       "X360      1262             1232   1262      1262      1262      1262   \n",
       "\n",
       "          other_sales  critic_score  user_score  rating  total_sales  \n",
       "platform                                                              \n",
       "PS2              2161          1298        1241    1503         2161  \n",
       "DS               2151           717         516    1303         2151  \n",
       "PS3              1331           820         877     992         1331  \n",
       "Wii              1320           585         560    1024         1320  \n",
       "X360             1262           916         966    1079         1262  "
      ]
     },
     "execution_count": 335,
     "metadata": {},
     "output_type": "execute_result"
    }
   ],
   "source": [
    "#platforms with highest number of sales\n",
    "df.groupby('platform').count().sort_values('total_sales',ascending=False).head()"
   ]
  },
  {
   "cell_type": "code",
   "execution_count": 336,
   "metadata": {},
   "outputs": [
    {
     "data": {
      "text/html": [
       "<div>\n",
       "<style scoped>\n",
       "    .dataframe tbody tr th:only-of-type {\n",
       "        vertical-align: middle;\n",
       "    }\n",
       "\n",
       "    .dataframe tbody tr th {\n",
       "        vertical-align: top;\n",
       "    }\n",
       "\n",
       "    .dataframe thead th {\n",
       "        text-align: right;\n",
       "    }\n",
       "</style>\n",
       "<table border=\"1\" class=\"dataframe\">\n",
       "  <thead>\n",
       "    <tr style=\"text-align: right;\">\n",
       "      <th></th>\n",
       "      <th>platform</th>\n",
       "      <th>total_sales</th>\n",
       "    </tr>\n",
       "  </thead>\n",
       "  <tbody>\n",
       "    <tr>\n",
       "      <td>0</td>\n",
       "      <td>PS2</td>\n",
       "      <td>1255.77</td>\n",
       "    </tr>\n",
       "    <tr>\n",
       "      <td>1</td>\n",
       "      <td>X360</td>\n",
       "      <td>971.42</td>\n",
       "    </tr>\n",
       "    <tr>\n",
       "      <td>2</td>\n",
       "      <td>PS3</td>\n",
       "      <td>939.65</td>\n",
       "    </tr>\n",
       "    <tr>\n",
       "      <td>3</td>\n",
       "      <td>Wii</td>\n",
       "      <td>907.51</td>\n",
       "    </tr>\n",
       "    <tr>\n",
       "      <td>4</td>\n",
       "      <td>DS</td>\n",
       "      <td>806.12</td>\n",
       "    </tr>\n",
       "    <tr>\n",
       "      <td>5</td>\n",
       "      <td>PS</td>\n",
       "      <td>730.86</td>\n",
       "    </tr>\n",
       "    <tr>\n",
       "      <td>6</td>\n",
       "      <td>GBA</td>\n",
       "      <td>317.85</td>\n",
       "    </tr>\n",
       "    <tr>\n",
       "      <td>7</td>\n",
       "      <td>PS4</td>\n",
       "      <td>314.14</td>\n",
       "    </tr>\n",
       "    <tr>\n",
       "      <td>8</td>\n",
       "      <td>PSP</td>\n",
       "      <td>294.05</td>\n",
       "    </tr>\n",
       "    <tr>\n",
       "      <td>9</td>\n",
       "      <td>PC</td>\n",
       "      <td>259.52</td>\n",
       "    </tr>\n",
       "  </tbody>\n",
       "</table>\n",
       "</div>"
      ],
      "text/plain": [
       "  platform  total_sales\n",
       "0      PS2      1255.77\n",
       "1     X360       971.42\n",
       "2      PS3       939.65\n",
       "3      Wii       907.51\n",
       "4       DS       806.12\n",
       "5       PS       730.86\n",
       "6      GBA       317.85\n",
       "7      PS4       314.14\n",
       "8      PSP       294.05\n",
       "9       PC       259.52"
      ]
     },
     "execution_count": 336,
     "metadata": {},
     "output_type": "execute_result"
    }
   ],
   "source": [
    "#platforms with maximum sales\n",
    "sales_per_platform=df.groupby('platform')['total_sales'].sum().sort_values(ascending=False).reset_index()\n",
    "sales_per_platform.head(10)"
   ]
  },
  {
   "cell_type": "markdown",
   "metadata": {},
   "source": [
    "We select the first 6 platforms as the sales for PS and GBA differ significantly"
   ]
  },
  {
   "cell_type": "code",
   "execution_count": 337,
   "metadata": {},
   "outputs": [
    {
     "data": {
      "text/plain": [
       "['PS2', 'X360', 'PS3', 'Wii', 'DS', 'PS']"
      ]
     },
     "execution_count": 337,
     "metadata": {},
     "output_type": "execute_result"
    }
   ],
   "source": [
    "platform=p.loc[0:5]['platform']     #list of most popular platforms\n",
    "platform.to_list()"
   ]
  },
  {
   "cell_type": "markdown",
   "metadata": {},
   "source": [
    "Distribution of data for each popular platform by year"
   ]
  },
  {
   "cell_type": "code",
   "execution_count": 338,
   "metadata": {},
   "outputs": [
    {
     "data": {
      "image/png": "[encoded data removed]",
      "text/plain": [
       "<Figure size 432x288 with 1 Axes>"
      ]
     },
     "metadata": {
      "needs_background": "light"
     },
     "output_type": "display_data"
    },
    {
     "data": {
      "image/png": "[encoded data removed]",
      "text/plain": [
       "<Figure size 432x288 with 1 Axes>"
      ]
     },
     "metadata": {
      "needs_background": "light"
     },
     "output_type": "display_data"
    },
    {
     "data": {
      "image/png": "[encoded data removed]",
      "text/plain": [
       "<Figure size 432x288 with 1 Axes>"
      ]
     },
     "metadata": {
      "needs_background": "light"
     },
     "output_type": "display_data"
    },
    {
     "data": {
      "image/png": "[encoded data removed]",
      "text/plain": [
       "<Figure size 432x288 with 1 Axes>"
      ]
     },
     "metadata": {
      "needs_background": "light"
     },
     "output_type": "display_data"
    },
    {
     "data": {
      "image/png": "[encoded data removed]",
      "text/plain": [
       "<Figure size 432x288 with 1 Axes>"
      ]
     },
     "metadata": {
      "needs_background": "light"
     },
     "output_type": "display_data"
    },
    {
     "data": {
      "image/png": "[encoded data removed]",
      "text/plain": [
       "<Figure size 432x288 with 1 Axes>"
      ]
     },
     "metadata": {
      "needs_background": "light"
     },
     "output_type": "display_data"
    }
   ],
   "source": [
    "for i in platform:\n",
    "    \n",
    "    plt.figure()\n",
    "    df[df['platform']==i]['year_of_release'].plot(x='year_of_release',kind='hist',color='y',grid=True)\n",
    "    plt.title(i)\n",
    "    plt.xlabel('year_of_release')\n",
    "plt.show()"
   ]
  },
  {
   "cell_type": "markdown",
   "metadata": {},
   "source": [
    "PS2:PS2 was popular from 2000 to 2006.The number of sales have consistently fallen from 2006 to 2011.PS2 has the highest number of sales in our data but it made no sale in 2016."
   ]
  },
  {
   "cell_type": "markdown",
   "metadata": {},
   "source": [
    "X360:Sales have consistently increased from 2006 to 2010 and then fallen till 2016."
   ]
  },
  {
   "cell_type": "markdown",
   "metadata": {},
   "source": [
    "PS3:Sales increased from 2006 to 2011 and then fell till 2016.But it still made the highest number of sales in 2016 around 110 units out of all the platforms with highest sales in the data."
   ]
  },
  {
   "cell_type": "markdown",
   "metadata": {},
   "source": [
    "Wii:Made highest number of sales in 2010 and lowest in 2016"
   ]
  },
  {
   "cell_type": "markdown",
   "metadata": {},
   "source": [
    "DS:DS seems like a platform established quite long ago.It has made sales in 1985,very few though.And no sales in 2016."
   ]
  },
  {
   "cell_type": "markdown",
   "metadata": {},
   "source": [
    "PS:The histogram shows that PS is an old platform, made it's first sale in 1994.Had the highest sales in 1998.Sales for PS rose from 1994 to 1998 and then fell from 1998 to 2003.This platform has faded. "
   ]
  },
  {
   "cell_type": "markdown",
   "metadata": {},
   "source": [
    "X360,PS3,Wii show similar pattern for sales, sales increase from 2006 to 2010 and then fall till 2016.All these platforms were probably competitors during the same period."
   ]
  },
  {
   "cell_type": "markdown",
   "metadata": {},
   "source": [
    "Scatter plots for a better picture of distribution of data by year for the popular platforms."
   ]
  },
  {
   "cell_type": "code",
   "execution_count": 339,
   "metadata": {},
   "outputs": [
    {
     "data": {
      "text/plain": [
       "<Figure size 432x288 with 0 Axes>"
      ]
     },
     "metadata": {},
     "output_type": "display_data"
    },
    {
     "data": {
      "image/png": "[encoded data removed]",
      "text/plain": [
       "<Figure size 432x288 with 1 Axes>"
      ]
     },
     "metadata": {
      "needs_background": "light"
     },
     "output_type": "display_data"
    },
    {
     "data": {
      "text/plain": [
       "<Figure size 432x288 with 0 Axes>"
      ]
     },
     "metadata": {},
     "output_type": "display_data"
    },
    {
     "data": {
      "image/png": "[encoded data removed]",
      "text/plain": [
       "<Figure size 432x288 with 1 Axes>"
      ]
     },
     "metadata": {
      "needs_background": "light"
     },
     "output_type": "display_data"
    },
    {
     "data": {
      "text/plain": [
       "<Figure size 432x288 with 0 Axes>"
      ]
     },
     "metadata": {},
     "output_type": "display_data"
    },
    {
     "data": {
      "image/png": "[encoded data removed]",
      "text/plain": [
       "<Figure size 432x288 with 1 Axes>"
      ]
     },
     "metadata": {
      "needs_background": "light"
     },
     "output_type": "display_data"
    },
    {
     "data": {
      "text/plain": [
       "<Figure size 432x288 with 0 Axes>"
      ]
     },
     "metadata": {},
     "output_type": "display_data"
    },
    {
     "data": {
      "image/png": "[encoded data removed]",
      "text/plain": [
       "<Figure size 432x288 with 1 Axes>"
      ]
     },
     "metadata": {
      "needs_background": "light"
     },
     "output_type": "display_data"
    },
    {
     "data": {
      "text/plain": [
       "<Figure size 432x288 with 0 Axes>"
      ]
     },
     "metadata": {},
     "output_type": "display_data"
    },
    {
     "data": {
      "image/png": "[encoded data removed]",
      "text/plain": [
       "<Figure size 432x288 with 1 Axes>"
      ]
     },
     "metadata": {
      "needs_background": "light"
     },
     "output_type": "display_data"
    },
    {
     "data": {
      "text/plain": [
       "<Figure size 432x288 with 0 Axes>"
      ]
     },
     "metadata": {},
     "output_type": "display_data"
    },
    {
     "data": {
      "image/png": "[encoded data removed]",
      "text/plain": [
       "<Figure size 432x288 with 1 Axes>"
      ]
     },
     "metadata": {
      "needs_background": "light"
     },
     "output_type": "display_data"
    }
   ],
   "source": [
    "for i in platform:\n",
    "    \n",
    "    plt.figure()\n",
    "    df[df['platform']==i].plot(x='year_of_release',y='total_sales',kind='scatter',color='y',alpha=0.6)\n",
    "    plt.title(i)\n",
    "    plt.xlabel('year_of_release')\n",
    "    plt.ylabel('total_sales')\n"
   ]
  },
  {
   "cell_type": "markdown",
   "metadata": {},
   "source": [
    "Scatter plot for DS shows it made it's first sale in 1985 then no sales till 2004.Made most of it's sales in 2005. Last sale in 2013."
   ]
  },
  {
   "cell_type": "code",
   "execution_count": 340,
   "metadata": {},
   "outputs": [
    {
     "data": {
      "text/plain": [
       "7.612903225806452"
      ]
     },
     "execution_count": 340,
     "metadata": {},
     "output_type": "execute_result"
    }
   ],
   "source": [
    "#lifespan of a platform\n",
    "(df.groupby('platform')['year_of_release'].max()-df.groupby('platform')['year_of_release'].min()).mean()"
   ]
  },
  {
   "cell_type": "markdown",
   "metadata": {},
   "source": [
    "It usually takes 7 years for platforms to come up and then fade."
   ]
  },
  {
   "cell_type": "code",
   "execution_count": 341,
   "metadata": {},
   "outputs": [
    {
     "data": {
      "text/plain": [
       "platform\n",
       "PS2     2127.0\n",
       "DS      2121.0\n",
       "PS      1190.0\n",
       "GBA      811.0\n",
       "XB       803.0\n",
       "GC       542.0\n",
       "N64      316.0\n",
       "SNES     239.0\n",
       "SAT      173.0\n",
       "2600     116.0\n",
       "NES       98.0\n",
       "GB        97.0\n",
       "DC        52.0\n",
       "GEN       29.0\n",
       "NG        12.0\n",
       "WS         6.0\n",
       "SCD        6.0\n",
       "3DO        3.0\n",
       "TG16       2.0\n",
       "GG         1.0\n",
       "PCFX       1.0\n",
       "Name: total, dtype: float64"
      ]
     },
     "execution_count": 341,
     "metadata": {},
     "output_type": "execute_result"
    }
   ],
   "source": [
    "platform_yearwise=df.pivot_table(index='platform',columns='year_of_release',values='total_sales',aggfunc='count')\n",
    "#print(q)\n",
    "platform_yearwise=platform_yearwise[(platform_yearwise[2016].isnull()) & (platform_yearwise[2015].isnull())]\n",
    "platform_yearwise['total']=platform_yearwise.sum(axis=1)\n",
    "platform_yearwise['total'].sort_values(ascending=False)\n"
   ]
  },
  {
   "cell_type": "markdown",
   "metadata": {},
   "source": [
    "PS2,DS,PS,GBA,XB were quite popular before but have 0 sales now. "
   ]
  },
  {
   "cell_type": "code",
   "execution_count": 342,
   "metadata": {},
   "outputs": [
    {
     "name": "stdout",
     "output_type": "stream",
     "text": [
      "<class 'pandas.core.frame.DataFrame'>\n",
      "RangeIndex: 14808 entries, 0 to 14807\n",
      "Data columns (total 13 columns):\n",
      "index              14808 non-null int64\n",
      "name               14808 non-null object\n",
      "platform           14808 non-null object\n",
      "year_of_release    14808 non-null float64\n",
      "genre              14808 non-null object\n",
      "na_sales           14808 non-null float64\n",
      "eu_sales           14808 non-null float64\n",
      "jp_sales           14808 non-null float64\n",
      "other_sales        14808 non-null float64\n",
      "critic_score       7926 non-null float64\n",
      "user_score         7402 non-null float64\n",
      "rating             10060 non-null object\n",
      "total_sales        14808 non-null float64\n",
      "dtypes: float64(8), int64(1), object(4)\n",
      "memory usage: 1.5+ MB\n"
     ]
    }
   ],
   "source": [
    "df=df[df['year_of_release']>=1999].reset_index()         #keeping only data from 1999 to 2016 \n",
    "df.info()"
   ]
  },
  {
   "cell_type": "markdown",
   "metadata": {},
   "source": [
    "Filling missing values for user score and critic score for a game with the average score for that game on different platforms. The games for which no user and critic score is available will be left as it is."
   ]
  },
  {
   "cell_type": "code",
   "execution_count": 343,
   "metadata": {},
   "outputs": [],
   "source": [
    "name_dict=df.groupby('name')[['user_score','critic_score']].mean().to_dict()\n",
    "#print(name_dict)\n",
    "score=['user_score','critic_score']"
   ]
  },
  {
   "cell_type": "code",
   "execution_count": 344,
   "metadata": {},
   "outputs": [],
   "source": [
    "for i in score:\n",
    "    def filler(row):\n",
    "        if np.isnan(row[i]):\n",
    "            return name_dict[i][row['name']]\n",
    "        return row[i]\n",
    "    \n",
    "    df[i]=df.apply(filler,axis=1)    "
   ]
  },
  {
   "cell_type": "code",
   "execution_count": 345,
   "metadata": {},
   "outputs": [
    {
     "data": {
      "text/html": [
       "<div>\n",
       "<style scoped>\n",
       "    .dataframe tbody tr th:only-of-type {\n",
       "        vertical-align: middle;\n",
       "    }\n",
       "\n",
       "    .dataframe tbody tr th {\n",
       "        vertical-align: top;\n",
       "    }\n",
       "\n",
       "    .dataframe thead th {\n",
       "        text-align: right;\n",
       "    }\n",
       "</style>\n",
       "<table border=\"1\" class=\"dataframe\">\n",
       "  <thead>\n",
       "    <tr style=\"text-align: right;\">\n",
       "      <th></th>\n",
       "      <th>2008</th>\n",
       "      <th>2009</th>\n",
       "      <th>2010</th>\n",
       "      <th>2011</th>\n",
       "      <th>2012</th>\n",
       "      <th>2013</th>\n",
       "      <th>2014</th>\n",
       "      <th>2015</th>\n",
       "      <th>2016</th>\n",
       "    </tr>\n",
       "    <tr>\n",
       "      <th>platform</th>\n",
       "      <th></th>\n",
       "      <th></th>\n",
       "      <th></th>\n",
       "      <th></th>\n",
       "      <th></th>\n",
       "      <th></th>\n",
       "      <th></th>\n",
       "      <th></th>\n",
       "      <th></th>\n",
       "    </tr>\n",
       "  </thead>\n",
       "  <tbody>\n",
       "    <tr>\n",
       "      <td>3DS</td>\n",
       "      <td>NaN</td>\n",
       "      <td>NaN</td>\n",
       "      <td>NaN</td>\n",
       "      <td>NaN</td>\n",
       "      <td>-0.187342</td>\n",
       "      <td>0.101441</td>\n",
       "      <td>-0.226445</td>\n",
       "      <td>-0.365174</td>\n",
       "      <td>-0.455004</td>\n",
       "    </tr>\n",
       "    <tr>\n",
       "      <td>DC</td>\n",
       "      <td>1.000000</td>\n",
       "      <td>NaN</td>\n",
       "      <td>NaN</td>\n",
       "      <td>NaN</td>\n",
       "      <td>NaN</td>\n",
       "      <td>NaN</td>\n",
       "      <td>NaN</td>\n",
       "      <td>NaN</td>\n",
       "      <td>NaN</td>\n",
       "    </tr>\n",
       "    <tr>\n",
       "      <td>DS</td>\n",
       "      <td>-0.011093</td>\n",
       "      <td>-0.177345</td>\n",
       "      <td>-0.288774</td>\n",
       "      <td>-0.692072</td>\n",
       "      <td>-0.579450</td>\n",
       "      <td>-0.860127</td>\n",
       "      <td>NaN</td>\n",
       "      <td>NaN</td>\n",
       "      <td>NaN</td>\n",
       "    </tr>\n",
       "    <tr>\n",
       "      <td>GB</td>\n",
       "      <td>NaN</td>\n",
       "      <td>NaN</td>\n",
       "      <td>NaN</td>\n",
       "      <td>NaN</td>\n",
       "      <td>NaN</td>\n",
       "      <td>NaN</td>\n",
       "      <td>NaN</td>\n",
       "      <td>NaN</td>\n",
       "      <td>NaN</td>\n",
       "    </tr>\n",
       "    <tr>\n",
       "      <td>GBA</td>\n",
       "      <td>NaN</td>\n",
       "      <td>NaN</td>\n",
       "      <td>NaN</td>\n",
       "      <td>NaN</td>\n",
       "      <td>NaN</td>\n",
       "      <td>NaN</td>\n",
       "      <td>NaN</td>\n",
       "      <td>NaN</td>\n",
       "      <td>NaN</td>\n",
       "    </tr>\n",
       "    <tr>\n",
       "      <td>GC</td>\n",
       "      <td>NaN</td>\n",
       "      <td>NaN</td>\n",
       "      <td>NaN</td>\n",
       "      <td>NaN</td>\n",
       "      <td>NaN</td>\n",
       "      <td>NaN</td>\n",
       "      <td>NaN</td>\n",
       "      <td>NaN</td>\n",
       "      <td>NaN</td>\n",
       "    </tr>\n",
       "    <tr>\n",
       "      <td>N64</td>\n",
       "      <td>NaN</td>\n",
       "      <td>NaN</td>\n",
       "      <td>NaN</td>\n",
       "      <td>NaN</td>\n",
       "      <td>NaN</td>\n",
       "      <td>NaN</td>\n",
       "      <td>NaN</td>\n",
       "      <td>NaN</td>\n",
       "      <td>NaN</td>\n",
       "    </tr>\n",
       "    <tr>\n",
       "      <td>PC</td>\n",
       "      <td>0.338362</td>\n",
       "      <td>0.361514</td>\n",
       "      <td>0.435837</td>\n",
       "      <td>0.442751</td>\n",
       "      <td>-0.337140</td>\n",
       "      <td>-0.466839</td>\n",
       "      <td>0.072698</td>\n",
       "      <td>-0.358434</td>\n",
       "      <td>-0.383803</td>\n",
       "    </tr>\n",
       "    <tr>\n",
       "      <td>PS</td>\n",
       "      <td>NaN</td>\n",
       "      <td>NaN</td>\n",
       "      <td>NaN</td>\n",
       "      <td>NaN</td>\n",
       "      <td>NaN</td>\n",
       "      <td>NaN</td>\n",
       "      <td>NaN</td>\n",
       "      <td>NaN</td>\n",
       "      <td>NaN</td>\n",
       "    </tr>\n",
       "    <tr>\n",
       "      <td>PS2</td>\n",
       "      <td>-0.290696</td>\n",
       "      <td>-0.510204</td>\n",
       "      <td>-0.786364</td>\n",
       "      <td>-0.920213</td>\n",
       "      <td>NaN</td>\n",
       "      <td>NaN</td>\n",
       "      <td>NaN</td>\n",
       "      <td>NaN</td>\n",
       "      <td>NaN</td>\n",
       "    </tr>\n",
       "    <tr>\n",
       "      <td>PS3</td>\n",
       "      <td>0.619347</td>\n",
       "      <td>0.104708</td>\n",
       "      <td>0.085847</td>\n",
       "      <td>0.102764</td>\n",
       "      <td>-0.315219</td>\n",
       "      <td>0.054862</td>\n",
       "      <td>-0.578278</td>\n",
       "      <td>-0.647822</td>\n",
       "      <td>-0.785969</td>\n",
       "    </tr>\n",
       "    <tr>\n",
       "      <td>PS4</td>\n",
       "      <td>NaN</td>\n",
       "      <td>NaN</td>\n",
       "      <td>NaN</td>\n",
       "      <td>NaN</td>\n",
       "      <td>NaN</td>\n",
       "      <td>NaN</td>\n",
       "      <td>2.847634</td>\n",
       "      <td>0.189000</td>\n",
       "      <td>-0.417578</td>\n",
       "    </tr>\n",
       "    <tr>\n",
       "      <td>PSP</td>\n",
       "      <td>-0.263797</td>\n",
       "      <td>0.093488</td>\n",
       "      <td>-0.072525</td>\n",
       "      <td>-0.491438</td>\n",
       "      <td>-0.568462</td>\n",
       "      <td>-0.591678</td>\n",
       "      <td>-0.923567</td>\n",
       "      <td>-0.500000</td>\n",
       "      <td>NaN</td>\n",
       "    </tr>\n",
       "    <tr>\n",
       "      <td>PSV</td>\n",
       "      <td>NaN</td>\n",
       "      <td>NaN</td>\n",
       "      <td>NaN</td>\n",
       "      <td>NaN</td>\n",
       "      <td>2.496760</td>\n",
       "      <td>-0.345893</td>\n",
       "      <td>0.123702</td>\n",
       "      <td>-0.474790</td>\n",
       "      <td>-0.320000</td>\n",
       "    </tr>\n",
       "    <tr>\n",
       "      <td>SAT</td>\n",
       "      <td>NaN</td>\n",
       "      <td>NaN</td>\n",
       "      <td>NaN</td>\n",
       "      <td>NaN</td>\n",
       "      <td>NaN</td>\n",
       "      <td>NaN</td>\n",
       "      <td>NaN</td>\n",
       "      <td>NaN</td>\n",
       "      <td>NaN</td>\n",
       "    </tr>\n",
       "    <tr>\n",
       "      <td>SNES</td>\n",
       "      <td>NaN</td>\n",
       "      <td>NaN</td>\n",
       "      <td>NaN</td>\n",
       "      <td>NaN</td>\n",
       "      <td>NaN</td>\n",
       "      <td>NaN</td>\n",
       "      <td>NaN</td>\n",
       "      <td>NaN</td>\n",
       "      <td>NaN</td>\n",
       "    </tr>\n",
       "    <tr>\n",
       "      <td>WS</td>\n",
       "      <td>NaN</td>\n",
       "      <td>NaN</td>\n",
       "      <td>NaN</td>\n",
       "      <td>NaN</td>\n",
       "      <td>NaN</td>\n",
       "      <td>NaN</td>\n",
       "      <td>NaN</td>\n",
       "      <td>NaN</td>\n",
       "      <td>NaN</td>\n",
       "    </tr>\n",
       "    <tr>\n",
       "      <td>Wii</td>\n",
       "      <td>0.121424</td>\n",
       "      <td>0.208090</td>\n",
       "      <td>-0.381794</td>\n",
       "      <td>-0.533802</td>\n",
       "      <td>-0.636044</td>\n",
       "      <td>-0.604330</td>\n",
       "      <td>-0.563446</td>\n",
       "      <td>-0.696000</td>\n",
       "      <td>-0.842105</td>\n",
       "    </tr>\n",
       "    <tr>\n",
       "      <td>WiiU</td>\n",
       "      <td>NaN</td>\n",
       "      <td>NaN</td>\n",
       "      <td>NaN</td>\n",
       "      <td>NaN</td>\n",
       "      <td>NaN</td>\n",
       "      <td>0.232916</td>\n",
       "      <td>0.017552</td>\n",
       "      <td>-0.257830</td>\n",
       "      <td>-0.718654</td>\n",
       "    </tr>\n",
       "    <tr>\n",
       "      <td>X360</td>\n",
       "      <td>0.417671</td>\n",
       "      <td>-0.110676</td>\n",
       "      <td>0.413501</td>\n",
       "      <td>-0.154032</td>\n",
       "      <td>-0.306591</td>\n",
       "      <td>-0.111891</td>\n",
       "      <td>-0.607812</td>\n",
       "      <td>-0.655728</td>\n",
       "      <td>-0.872910</td>\n",
       "    </tr>\n",
       "    <tr>\n",
       "      <td>XB</td>\n",
       "      <td>-0.672727</td>\n",
       "      <td>NaN</td>\n",
       "      <td>NaN</td>\n",
       "      <td>NaN</td>\n",
       "      <td>NaN</td>\n",
       "      <td>NaN</td>\n",
       "      <td>NaN</td>\n",
       "      <td>NaN</td>\n",
       "      <td>NaN</td>\n",
       "    </tr>\n",
       "    <tr>\n",
       "      <td>XOne</td>\n",
       "      <td>NaN</td>\n",
       "      <td>NaN</td>\n",
       "      <td>NaN</td>\n",
       "      <td>NaN</td>\n",
       "      <td>NaN</td>\n",
       "      <td>NaN</td>\n",
       "      <td>1.851793</td>\n",
       "      <td>0.112262</td>\n",
       "      <td>-0.565181</td>\n",
       "    </tr>\n",
       "  </tbody>\n",
       "</table>\n",
       "</div>"
      ],
      "text/plain": [
       "              2008      2009      2010      2011      2012      2013  \\\n",
       "platform                                                               \n",
       "3DS            NaN       NaN       NaN       NaN -0.187342  0.101441   \n",
       "DC        1.000000       NaN       NaN       NaN       NaN       NaN   \n",
       "DS       -0.011093 -0.177345 -0.288774 -0.692072 -0.579450 -0.860127   \n",
       "GB             NaN       NaN       NaN       NaN       NaN       NaN   \n",
       "GBA            NaN       NaN       NaN       NaN       NaN       NaN   \n",
       "GC             NaN       NaN       NaN       NaN       NaN       NaN   \n",
       "N64            NaN       NaN       NaN       NaN       NaN       NaN   \n",
       "PC        0.338362  0.361514  0.435837  0.442751 -0.337140 -0.466839   \n",
       "PS             NaN       NaN       NaN       NaN       NaN       NaN   \n",
       "PS2      -0.290696 -0.510204 -0.786364 -0.920213       NaN       NaN   \n",
       "PS3       0.619347  0.104708  0.085847  0.102764 -0.315219  0.054862   \n",
       "PS4            NaN       NaN       NaN       NaN       NaN       NaN   \n",
       "PSP      -0.263797  0.093488 -0.072525 -0.491438 -0.568462 -0.591678   \n",
       "PSV            NaN       NaN       NaN       NaN  2.496760 -0.345893   \n",
       "SAT            NaN       NaN       NaN       NaN       NaN       NaN   \n",
       "SNES           NaN       NaN       NaN       NaN       NaN       NaN   \n",
       "WS             NaN       NaN       NaN       NaN       NaN       NaN   \n",
       "Wii       0.121424  0.208090 -0.381794 -0.533802 -0.636044 -0.604330   \n",
       "WiiU           NaN       NaN       NaN       NaN       NaN  0.232916   \n",
       "X360      0.417671 -0.110676  0.413501 -0.154032 -0.306591 -0.111891   \n",
       "XB       -0.672727       NaN       NaN       NaN       NaN       NaN   \n",
       "XOne           NaN       NaN       NaN       NaN       NaN       NaN   \n",
       "\n",
       "              2014      2015      2016  \n",
       "platform                                \n",
       "3DS      -0.226445 -0.365174 -0.455004  \n",
       "DC             NaN       NaN       NaN  \n",
       "DS             NaN       NaN       NaN  \n",
       "GB             NaN       NaN       NaN  \n",
       "GBA            NaN       NaN       NaN  \n",
       "GC             NaN       NaN       NaN  \n",
       "N64            NaN       NaN       NaN  \n",
       "PC        0.072698 -0.358434 -0.383803  \n",
       "PS             NaN       NaN       NaN  \n",
       "PS2            NaN       NaN       NaN  \n",
       "PS3      -0.578278 -0.647822 -0.785969  \n",
       "PS4       2.847634  0.189000 -0.417578  \n",
       "PSP      -0.923567 -0.500000       NaN  \n",
       "PSV       0.123702 -0.474790 -0.320000  \n",
       "SAT            NaN       NaN       NaN  \n",
       "SNES           NaN       NaN       NaN  \n",
       "WS             NaN       NaN       NaN  \n",
       "Wii      -0.563446 -0.696000 -0.842105  \n",
       "WiiU      0.017552 -0.257830 -0.718654  \n",
       "X360     -0.607812 -0.655728 -0.872910  \n",
       "XB             NaN       NaN       NaN  \n",
       "XOne      1.851793  0.112262 -0.565181  "
      ]
     },
     "execution_count": 345,
     "metadata": {},
     "output_type": "execute_result"
    }
   ],
   "source": [
    "#calculting growth for platforms to find which ones are growing and which ones are shrinking and which are most profitable\n",
    "\n",
    "platforms=df.pivot_table(index='platform',columns='year_of_release',values='total_sales',aggfunc='sum')\n",
    "#print(platforms['platform'])\n",
    "growth=pd.DataFrame()\n",
    "for i in range(1999,2016):\n",
    "    growth[i+1]=(platforms[i+1]-platforms[i])/platforms[i]     \n",
    "  #  print(growth[i+1])   \n",
    "growth[range(2008,2017)]\n"
   ]
  },
  {
   "cell_type": "code",
   "execution_count": 346,
   "metadata": {},
   "outputs": [
    {
     "data": {
      "text/plain": [
       "Text(0.5, 1.0, 'profitable platforms')"
      ]
     },
     "execution_count": 346,
     "metadata": {},
     "output_type": "execute_result"
    },
    {
     "data": {
      "image/png": "[encoded data removed]",
      "text/plain": [
       "<Figure size 648x432 with 1 Axes>"
      ]
     },
     "metadata": {
      "needs_background": "light"
     },
     "output_type": "display_data"
    }
   ],
   "source": [
    "growing=growth.loc[['PS4','XOne','WiiU','PSV','PC','3DS'],]\n",
    "growing.transpose().plot(figsize=(9,6))\n",
    "plt.xlim(2008,2016)\n",
    "plt.xlabel('year of release')\n",
    "plt.ylabel('growth rate')\n",
    "plt.title('profitable platforms')"
   ]
  },
  {
   "cell_type": "code",
   "execution_count": 347,
   "metadata": {},
   "outputs": [
    {
     "data": {
      "text/plain": [
       "Text(0.5, 1.0, 'shrinking platforms')"
      ]
     },
     "execution_count": 347,
     "metadata": {},
     "output_type": "execute_result"
    },
    {
     "data": {
      "image/png": "[encoded data removed]",
      "text/plain": [
       "<Figure size 648x432 with 1 Axes>"
      ]
     },
     "metadata": {
      "needs_background": "light"
     },
     "output_type": "display_data"
    }
   ],
   "source": [
    "shrinking=['X360','Wii','PSP','PC','3DS']\n",
    "shrinking=growth.loc[['X360','Wii','PSP','PC','3DS'],]\n",
    "shrinking.transpose().plot(figsize=(9,6))\n",
    "plt.xlabel('year of release')\n",
    "plt.ylabel('growth rate')\n",
    "plt.title('shrinking platforms')"
   ]
  },
  {
   "cell_type": "markdown",
   "metadata": {},
   "source": [
    "It seems like all platforms are shrinking! \n",
    "Considering that it takes 7 years for platforms to emerge and fade we can say that PS4,XOne,WiiU,PSV,3DS might grow in the future. X360,Wii,PSP,PS3,PC are shrinking. All the growing platforms i.e PS4,XOne,WiiU,PSV,3DS and PC are potentially profitable platforms.PC could be profitable because it has been consistent and its sales fell by much less than that that of others.Also it seems the most popular platforms have either faded or are shrinking.   "
   ]
  },
  {
   "cell_type": "code",
   "execution_count": 348,
   "metadata": {},
   "outputs": [
    {
     "data": {
      "text/plain": [
       "Text(0.5, 1.0, 'popular platforms which have faded')"
      ]
     },
     "execution_count": 348,
     "metadata": {},
     "output_type": "execute_result"
    },
    {
     "data": {
      "image/png": "[encoded data removed]",
      "text/plain": [
       "<Figure size 648x432 with 1 Axes>"
      ]
     },
     "metadata": {
      "needs_background": "light"
     },
     "output_type": "display_data"
    }
   ],
   "source": [
    "#most popular platforms in the data which have faded\n",
    "faded=growth.loc[['PS2','DS','PS'],]\n",
    "faded.transpose().plot(figsize=(9,6))\n",
    "plt.xlabel('year of release')\n",
    "plt.ylabel('growth rate')\n",
    "plt.title('popular platforms which have faded')"
   ]
  },
  {
   "cell_type": "code",
   "execution_count": 349,
   "metadata": {},
   "outputs": [
    {
     "data": {
      "text/plain": [
       "0     PS2\n",
       "1    X360\n",
       "2     PS3\n",
       "3     Wii\n",
       "4      DS\n",
       "5      PS\n",
       "Name: platform, dtype: object"
      ]
     },
     "execution_count": 349,
     "metadata": {},
     "output_type": "execute_result"
    }
   ],
   "source": [
    "platform                  #most popular platforms"
   ]
  },
  {
   "cell_type": "code",
   "execution_count": 350,
   "metadata": {},
   "outputs": [
    {
     "data": {
      "image/png": "[encoded data removed]",
      "text/plain": [
       "<Figure size 432x288 with 1 Axes>"
      ]
     },
     "metadata": {
      "needs_background": "light"
     },
     "output_type": "display_data"
    },
    {
     "data": {
      "image/png": "[encoded data removed]",
      "text/plain": [
       "<Figure size 432x288 with 1 Axes>"
      ]
     },
     "metadata": {
      "needs_background": "light"
     },
     "output_type": "display_data"
    },
    {
     "data": {
      "image/png": "[encoded data removed]",
      "text/plain": [
       "<Figure size 432x288 with 1 Axes>"
      ]
     },
     "metadata": {
      "needs_background": "light"
     },
     "output_type": "display_data"
    },
    {
     "data": {
      "image/png": "[encoded data removed]",
      "text/plain": [
       "<Figure size 432x288 with 1 Axes>"
      ]
     },
     "metadata": {
      "needs_background": "light"
     },
     "output_type": "display_data"
    },
    {
     "data": {
      "image/png": "[encoded data removed]",
      "text/plain": [
       "<Figure size 432x288 with 1 Axes>"
      ]
     },
     "metadata": {
      "needs_background": "light"
     },
     "output_type": "display_data"
    },
    {
     "data": {
      "image/png": "[encoded data removed]",
      "text/plain": [
       "<Figure size 432x288 with 1 Axes>"
      ]
     },
     "metadata": {
      "needs_background": "light"
     },
     "output_type": "display_data"
    }
   ],
   "source": [
    "profitable=['PS4','XOne','WiiU','PC','PSV','3DS']\n",
    "for i in profitable:\n",
    "    plt.figure()\n",
    "    df[df['platform']==i][['name','total_sales']].boxplot()\n",
    "    plt.title(i)\n",
    "    #plt.ylim(0,6)"
   ]
  },
  {
   "cell_type": "markdown",
   "metadata": {},
   "source": [
    "The average(median) sales for XOne,WiiU,PS4 are similar and close to 0.The average sale for PC and PSV and 3DS is very close to 0.All of them contain many outliers.The average sales of PSV are very low and the maximum sale is 2mil USD.PS4 and 3DS has maximum sale of around 14mil USD and XOne,WiiU and PC have maximum sales of 7- 8mil USD.PC and PS4 have much more outliers than others.Sales for PS4 are much more dispersed than others.3DS has made many sales between 8 to 10 milUSD.The left whisker is at 0 for all 6 platforms but the right whisker has different value for all 6 .The difference in sales for these platforms is significant. "
   ]
  },
  {
   "cell_type": "markdown",
   "metadata": {},
   "source": [
    "Looking at the boxplot we can disregard PSV as a potentially profitable platform."
   ]
  },
  {
   "cell_type": "markdown",
   "metadata": {},
   "source": [
    "# Effect of reviews"
   ]
  },
  {
   "cell_type": "code",
   "execution_count": 351,
   "metadata": {},
   "outputs": [
    {
     "name": "stdout",
     "output_type": "stream",
     "text": [
      "<class 'pandas.core.frame.DataFrame'>\n",
      "RangeIndex: 14808 entries, 0 to 14807\n",
      "Data columns (total 13 columns):\n",
      "index              14808 non-null int64\n",
      "name               14808 non-null object\n",
      "platform           14808 non-null object\n",
      "year_of_release    14808 non-null float64\n",
      "genre              14808 non-null object\n",
      "na_sales           14808 non-null float64\n",
      "eu_sales           14808 non-null float64\n",
      "jp_sales           14808 non-null float64\n",
      "other_sales        14808 non-null float64\n",
      "critic_score       8803 non-null float64\n",
      "user_score         8396 non-null float64\n",
      "rating             10060 non-null object\n",
      "total_sales        14808 non-null float64\n",
      "dtypes: float64(8), int64(1), object(4)\n",
      "memory usage: 1.5+ MB\n"
     ]
    }
   ],
   "source": [
    "df.info()"
   ]
  },
  {
   "cell_type": "code",
   "execution_count": 352,
   "metadata": {},
   "outputs": [
    {
     "name": "stdout",
     "output_type": "stream",
     "text": [
      "PS2 0.6614950634696756\n",
      "X360 0.788961038961039\n",
      "PS3 0.7075038284839203\n",
      "Wii 0.5171073094867807\n",
      "DS 0.3712264150943396\n",
      "PS 0.33755274261603374\n"
     ]
    }
   ],
   "source": [
    "for i in platform:\n",
    "    print(i,df[df['platform']==i]['critic_score'].count()/len(df[df['platform']==i]))"
   ]
  },
  {
   "cell_type": "markdown",
   "metadata": {},
   "source": [
    "Since we have 79% data on critic score for platform X360 we choose this platform to analyse the effect of reviews."
   ]
  },
  {
   "cell_type": "code",
   "execution_count": 353,
   "metadata": {},
   "outputs": [
    {
     "data": {
      "text/plain": [
       "<matplotlib.axes._subplots.AxesSubplot at 0x7fc3277564d0>"
      ]
     },
     "execution_count": 353,
     "metadata": {},
     "output_type": "execute_result"
    },
    {
     "data": {
      "image/png": "[encoded data removed]",
      "text/plain": [
       "<Figure size 720x576 with 1 Axes>"
      ]
     },
     "metadata": {
      "needs_background": "light"
     },
     "output_type": "display_data"
    }
   ],
   "source": [
    "#scatter plot for user score and total sales\n",
    "df[df['platform']=='X360'].plot(x='user_score',y='total_sales',kind='scatter',figsize=(10,8),grid=True)"
   ]
  },
  {
   "cell_type": "code",
   "execution_count": 354,
   "metadata": {},
   "outputs": [
    {
     "data": {
      "text/plain": [
       "<matplotlib.axes._subplots.AxesSubplot at 0x7fc326ac5150>"
      ]
     },
     "execution_count": 354,
     "metadata": {},
     "output_type": "execute_result"
    },
    {
     "data": {
      "image/png": "[encoded data removed]",
      "text/plain": [
       "<Figure size 720x576 with 1 Axes>"
      ]
     },
     "metadata": {
      "needs_background": "light"
     },
     "output_type": "display_data"
    }
   ],
   "source": [
    "#scatter plot for critic score and total sales\n",
    "df[df['platform']=='X360'].plot(x='critic_score',y='total_sales',kind='scatter',figsize=(10,8),grid=True)"
   ]
  },
  {
   "cell_type": "code",
   "execution_count": 355,
   "metadata": {},
   "outputs": [
    {
     "data": {
      "text/html": [
       "<div>\n",
       "<style scoped>\n",
       "    .dataframe tbody tr th:only-of-type {\n",
       "        vertical-align: middle;\n",
       "    }\n",
       "\n",
       "    .dataframe tbody tr th {\n",
       "        vertical-align: top;\n",
       "    }\n",
       "\n",
       "    .dataframe thead th {\n",
       "        text-align: right;\n",
       "    }\n",
       "</style>\n",
       "<table border=\"1\" class=\"dataframe\">\n",
       "  <thead>\n",
       "    <tr style=\"text-align: right;\">\n",
       "      <th></th>\n",
       "      <th>user_score</th>\n",
       "      <th>critic_score</th>\n",
       "      <th>total_sales</th>\n",
       "    </tr>\n",
       "  </thead>\n",
       "  <tbody>\n",
       "    <tr>\n",
       "      <td>user_score</td>\n",
       "      <td>1.000000</td>\n",
       "      <td>0.550957</td>\n",
       "      <td>0.116161</td>\n",
       "    </tr>\n",
       "    <tr>\n",
       "      <td>critic_score</td>\n",
       "      <td>0.550957</td>\n",
       "      <td>1.000000</td>\n",
       "      <td>0.379073</td>\n",
       "    </tr>\n",
       "    <tr>\n",
       "      <td>total_sales</td>\n",
       "      <td>0.116161</td>\n",
       "      <td>0.379073</td>\n",
       "      <td>1.000000</td>\n",
       "    </tr>\n",
       "  </tbody>\n",
       "</table>\n",
       "</div>"
      ],
      "text/plain": [
       "              user_score  critic_score  total_sales\n",
       "user_score      1.000000      0.550957     0.116161\n",
       "critic_score    0.550957      1.000000     0.379073\n",
       "total_sales     0.116161      0.379073     1.000000"
      ]
     },
     "execution_count": 355,
     "metadata": {},
     "output_type": "execute_result"
    }
   ],
   "source": [
    "df[df['platform']=='X360'][['user_score','critic_score','total_sales']].corr()  #calculating correlation coefficient"
   ]
  },
  {
   "cell_type": "markdown",
   "metadata": {},
   "source": [
    "The relation between user score and total sales is not very clear from the scatter plot and it is because the correlation is quite low.As expected the correlation coefficient is positive.We can say that total score and user score are not very highly related but user score does effect total sales to some degree. "
   ]
  },
  {
   "cell_type": "markdown",
   "metadata": {},
   "source": [
    "From the correlation coefficient we can say that total sales depends more linearly on critic score than user score which is also clear from the scatter plots. "
   ]
  },
  {
   "cell_type": "markdown",
   "metadata": {},
   "source": [
    "Sales of the games sold on X360 on different platforms"
   ]
  },
  {
   "cell_type": "code",
   "execution_count": 356,
   "metadata": {},
   "outputs": [],
   "source": [
    "platform_name=df[df['platform']=='X360']['name'].unique()\n"
   ]
  },
  {
   "cell_type": "code",
   "execution_count": 379,
   "metadata": {},
   "outputs": [
    {
     "data": {
      "text/plain": [
       "Text(0.5, 1.0, 'total sales on each platform')"
      ]
     },
     "execution_count": 379,
     "metadata": {},
     "output_type": "execute_result"
    },
    {
     "data": {
      "image/png": "[encoded data removed]",
      "text/plain": [
       "<Figure size 432x288 with 1 Axes>"
      ]
     },
     "metadata": {
      "needs_background": "light"
     },
     "output_type": "display_data"
    }
   ],
   "source": [
    "(df.query(\"name in @platform_name\")\n",
    " .pivot_table(index='platform',values='total_sales',aggfunc='sum')\n",
    " .sort_values('total_sales',ascending=False)\n",
    " .plot(kind='bar'))\n",
    "plt.ylabel('sales')\n",
    "plt.title('total sales on each platform')"
   ]
  },
  {
   "cell_type": "markdown",
   "metadata": {},
   "source": [
    "There is a huge drop in sales of these games on all platforms other than X360 and PS3.These games did not sell well on the potenially profitable platforms we selected."
   ]
  },
  {
   "cell_type": "markdown",
   "metadata": {},
   "source": [
    "# Studying effect of genres"
   ]
  },
  {
   "cell_type": "code",
   "execution_count": 380,
   "metadata": {},
   "outputs": [
    {
     "data": {
      "text/plain": [
       "Text(0.5, 1.0, 'number of games of each genre')"
      ]
     },
     "execution_count": 380,
     "metadata": {},
     "output_type": "execute_result"
    },
    {
     "data": {
      "image/png": "[encoded data removed]",
      "text/plain": [
       "<Figure size 432x288 with 1 Axes>"
      ]
     },
     "metadata": {
      "needs_background": "light"
     },
     "output_type": "display_data"
    }
   ],
   "source": [
    "# genres by popularity\n",
    "y1=df.groupby('genre')['total_sales'].count().sort_values(ascending=False)\n",
    "plt.figure()\n",
    "y1.plot(kind='bar')\n",
    "plt.ylabel('count')\n",
    "plt.title('number of games of each genre')"
   ]
  },
  {
   "cell_type": "code",
   "execution_count": 381,
   "metadata": {},
   "outputs": [
    {
     "data": {
      "text/plain": [
       "Text(0.5, 1.0, 'total sales for each genre')"
      ]
     },
     "execution_count": 381,
     "metadata": {},
     "output_type": "execute_result"
    },
    {
     "data": {
      "image/png": "[encoded data removed]",
      "text/plain": [
       "<Figure size 432x288 with 1 Axes>"
      ]
     },
     "metadata": {
      "needs_background": "light"
     },
     "output_type": "display_data"
    }
   ],
   "source": [
    "# total sales for each genre\n",
    "df.groupby('genre')['total_sales'].sum().sort_values(ascending=False).plot(kind='bar')\n",
    "plt.ylabel('total_sales')\n",
    "plt.title('total sales for each genre')"
   ]
  },
  {
   "cell_type": "markdown",
   "metadata": {},
   "source": [
    "Action games are most popular and most profitable so are sports games. But shooter games are sixth in popularity but 3rd in sales.Adventure games have high number of sales but very low total sales."
   ]
  },
  {
   "cell_type": "code",
   "execution_count": 360,
   "metadata": {},
   "outputs": [
    {
     "data": {
      "text/html": [
       "<div>\n",
       "<style scoped>\n",
       "    .dataframe tbody tr th:only-of-type {\n",
       "        vertical-align: middle;\n",
       "    }\n",
       "\n",
       "    .dataframe tbody tr th {\n",
       "        vertical-align: top;\n",
       "    }\n",
       "\n",
       "    .dataframe thead th {\n",
       "        text-align: right;\n",
       "    }\n",
       "</style>\n",
       "<table border=\"1\" class=\"dataframe\">\n",
       "  <thead>\n",
       "    <tr style=\"text-align: right;\">\n",
       "      <th></th>\n",
       "      <th>platform</th>\n",
       "      <th>genre</th>\n",
       "      <th>total_sales</th>\n",
       "      <th>max</th>\n",
       "    </tr>\n",
       "  </thead>\n",
       "  <tbody>\n",
       "    <tr>\n",
       "      <td>24</td>\n",
       "      <td>DS</td>\n",
       "      <td>Misc</td>\n",
       "      <td>135.56</td>\n",
       "      <td>1</td>\n",
       "    </tr>\n",
       "    <tr>\n",
       "      <td>90</td>\n",
       "      <td>PS</td>\n",
       "      <td>Action</td>\n",
       "      <td>54.42</td>\n",
       "      <td>1</td>\n",
       "    </tr>\n",
       "    <tr>\n",
       "      <td>102</td>\n",
       "      <td>PS2</td>\n",
       "      <td>Action</td>\n",
       "      <td>272.38</td>\n",
       "      <td>1</td>\n",
       "    </tr>\n",
       "    <tr>\n",
       "      <td>114</td>\n",
       "      <td>PS3</td>\n",
       "      <td>Action</td>\n",
       "      <td>297.87</td>\n",
       "      <td>1</td>\n",
       "    </tr>\n",
       "    <tr>\n",
       "      <td>176</td>\n",
       "      <td>Wii</td>\n",
       "      <td>Sports</td>\n",
       "      <td>286.49</td>\n",
       "      <td>1</td>\n",
       "    </tr>\n",
       "    <tr>\n",
       "      <td>198</td>\n",
       "      <td>X360</td>\n",
       "      <td>Shooter</td>\n",
       "      <td>275.62</td>\n",
       "      <td>1</td>\n",
       "    </tr>\n",
       "  </tbody>\n",
       "</table>\n",
       "</div>"
      ],
      "text/plain": [
       "    platform    genre  total_sales  max\n",
       "24        DS     Misc       135.56    1\n",
       "90        PS   Action        54.42    1\n",
       "102      PS2   Action       272.38    1\n",
       "114      PS3   Action       297.87    1\n",
       "176      Wii   Sports       286.49    1\n",
       "198     X360  Shooter       275.62    1"
      ]
     },
     "execution_count": 360,
     "metadata": {},
     "output_type": "execute_result"
    }
   ],
   "source": [
    "#the most profitable genre for the most popular platforms\n",
    "genre=df.pivot_table(index=['platform','genre'],values='total_sales',aggfunc='sum').reset_index()\n",
    "#print(genre)\n",
    "def profit(row):\n",
    "    i=row['platform']\n",
    "    if i in platform.to_list():\n",
    "        if row['total_sales']==genre[genre['platform']==i]['total_sales'].max():\n",
    "            return 1\n",
    "    return 0\n",
    "genre['max']=genre.apply(profit,axis=1) \n",
    "genre[genre['max']==1]\n",
    "    "
   ]
  },
  {
   "cell_type": "markdown",
   "metadata": {},
   "source": [
    "We see that for the most popular platforms most profitable genre is different.Hence we cannot generalise the most profitable genre."
   ]
  },
  {
   "cell_type": "markdown",
   "metadata": {},
   "source": [
    "# User profile for each region"
   ]
  },
  {
   "cell_type": "markdown",
   "metadata": {},
   "source": [
    "# Top five platforms in each region and their market share"
   ]
  },
  {
   "cell_type": "markdown",
   "metadata": {},
   "source": [
    "Market share of different regions for the top 5 platforms in region na"
   ]
  },
  {
   "cell_type": "code",
   "execution_count": 361,
   "metadata": {},
   "outputs": [
    {
     "data": {
      "text/html": [
       "<div>\n",
       "<style scoped>\n",
       "    .dataframe tbody tr th:only-of-type {\n",
       "        vertical-align: middle;\n",
       "    }\n",
       "\n",
       "    .dataframe tbody tr th {\n",
       "        vertical-align: top;\n",
       "    }\n",
       "\n",
       "    .dataframe thead th {\n",
       "        text-align: right;\n",
       "    }\n",
       "</style>\n",
       "<table border=\"1\" class=\"dataframe\">\n",
       "  <thead>\n",
       "    <tr style=\"text-align: right;\">\n",
       "      <th></th>\n",
       "      <th>na_sales</th>\n",
       "      <th>eu_sales</th>\n",
       "      <th>jp_sales</th>\n",
       "      <th>other_sales</th>\n",
       "      <th>total_sales</th>\n",
       "      <th>na_share</th>\n",
       "      <th>eu_share</th>\n",
       "      <th>jp_share</th>\n",
       "      <th>other_share</th>\n",
       "    </tr>\n",
       "    <tr>\n",
       "      <th>platform</th>\n",
       "      <th></th>\n",
       "      <th></th>\n",
       "      <th></th>\n",
       "      <th></th>\n",
       "      <th></th>\n",
       "      <th></th>\n",
       "      <th></th>\n",
       "      <th></th>\n",
       "      <th></th>\n",
       "    </tr>\n",
       "  </thead>\n",
       "  <tbody>\n",
       "    <tr>\n",
       "      <td>X360</td>\n",
       "      <td>595.74</td>\n",
       "      <td>268.32</td>\n",
       "      <td>12.30</td>\n",
       "      <td>84.88</td>\n",
       "      <td>961.24</td>\n",
       "      <td>0.162963</td>\n",
       "      <td>0.124900</td>\n",
       "      <td>0.014168</td>\n",
       "      <td>0.114990</td>\n",
       "    </tr>\n",
       "    <tr>\n",
       "      <td>PS2</td>\n",
       "      <td>572.92</td>\n",
       "      <td>332.63</td>\n",
       "      <td>137.54</td>\n",
       "      <td>190.47</td>\n",
       "      <td>1233.56</td>\n",
       "      <td>0.156721</td>\n",
       "      <td>0.154835</td>\n",
       "      <td>0.158427</td>\n",
       "      <td>0.258037</td>\n",
       "    </tr>\n",
       "    <tr>\n",
       "      <td>Wii</td>\n",
       "      <td>486.87</td>\n",
       "      <td>258.32</td>\n",
       "      <td>68.28</td>\n",
       "      <td>77.71</td>\n",
       "      <td>891.18</td>\n",
       "      <td>0.133182</td>\n",
       "      <td>0.120245</td>\n",
       "      <td>0.078649</td>\n",
       "      <td>0.105277</td>\n",
       "    </tr>\n",
       "    <tr>\n",
       "      <td>PS3</td>\n",
       "      <td>390.13</td>\n",
       "      <td>327.21</td>\n",
       "      <td>79.41</td>\n",
       "      <td>134.59</td>\n",
       "      <td>931.34</td>\n",
       "      <td>0.106719</td>\n",
       "      <td>0.152313</td>\n",
       "      <td>0.091469</td>\n",
       "      <td>0.182334</td>\n",
       "    </tr>\n",
       "    <tr>\n",
       "      <td>DS</td>\n",
       "      <td>380.31</td>\n",
       "      <td>188.41</td>\n",
       "      <td>175.00</td>\n",
       "      <td>59.04</td>\n",
       "      <td>802.76</td>\n",
       "      <td>0.104033</td>\n",
       "      <td>0.087703</td>\n",
       "      <td>0.201576</td>\n",
       "      <td>0.079984</td>\n",
       "    </tr>\n",
       "  </tbody>\n",
       "</table>\n",
       "</div>"
      ],
      "text/plain": [
       "          na_sales  eu_sales  jp_sales  other_sales  total_sales  na_share  \\\n",
       "platform                                                                     \n",
       "X360        595.74    268.32     12.30        84.88       961.24  0.162963   \n",
       "PS2         572.92    332.63    137.54       190.47      1233.56  0.156721   \n",
       "Wii         486.87    258.32     68.28        77.71       891.18  0.133182   \n",
       "PS3         390.13    327.21     79.41       134.59       931.34  0.106719   \n",
       "DS          380.31    188.41    175.00        59.04       802.76  0.104033   \n",
       "\n",
       "          eu_share  jp_share  other_share  \n",
       "platform                                   \n",
       "X360      0.124900  0.014168     0.114990  \n",
       "PS2       0.154835  0.158427     0.258037  \n",
       "Wii       0.120245  0.078649     0.105277  \n",
       "PS3       0.152313  0.091469     0.182334  \n",
       "DS        0.087703  0.201576     0.079984  "
      ]
     },
     "execution_count": 361,
     "metadata": {},
     "output_type": "execute_result"
    }
   ],
   "source": [
    "na=df.groupby('platform')[['na_sales','eu_sales','jp_sales','other_sales','total_sales']].sum().sort_values('na_sales',ascending=False)\n",
    "na['na_share']=na['na_sales']/df['na_sales'].sum()\n",
    "na['eu_share']=na['eu_sales']/df['eu_sales'].sum()\n",
    "na['jp_share']=na['jp_sales']/df['jp_sales'].sum()\n",
    "na['other_share']=na['other_sales']/df['other_sales'].sum()\n",
    "na=na.head()\n",
    "na"
   ]
  },
  {
   "cell_type": "code",
   "execution_count": 362,
   "metadata": {},
   "outputs": [
    {
     "data": {
      "text/plain": [
       "Text(0.5, 1.0, 'Top 5 platforms in Na region')"
      ]
     },
     "execution_count": 362,
     "metadata": {},
     "output_type": "execute_result"
    },
    {
     "data": {
      "image/png": "[encoded data removed]",
      "text/plain": [
       "<Figure size 432x288 with 1 Axes>"
      ]
     },
     "metadata": {
      "needs_background": "light"
     },
     "output_type": "display_data"
    }
   ],
   "source": [
    "na[['na_share','eu_share','jp_share']].plot(kind='bar',stacked=True)\n",
    "plt.xlabel('platforms')\n",
    "plt.ylabel('Market share percentage')\n",
    "plt.title('Top 5 platforms in Na region')"
   ]
  },
  {
   "cell_type": "markdown",
   "metadata": {},
   "source": [
    "X360 has the highest market share for na region."
   ]
  },
  {
   "cell_type": "markdown",
   "metadata": {},
   "source": [
    "Market share of different regions for the top 5 platforms in region eu"
   ]
  },
  {
   "cell_type": "code",
   "execution_count": 363,
   "metadata": {},
   "outputs": [
    {
     "data": {
      "text/html": [
       "<div>\n",
       "<style scoped>\n",
       "    .dataframe tbody tr th:only-of-type {\n",
       "        vertical-align: middle;\n",
       "    }\n",
       "\n",
       "    .dataframe tbody tr th {\n",
       "        vertical-align: top;\n",
       "    }\n",
       "\n",
       "    .dataframe thead th {\n",
       "        text-align: right;\n",
       "    }\n",
       "</style>\n",
       "<table border=\"1\" class=\"dataframe\">\n",
       "  <thead>\n",
       "    <tr style=\"text-align: right;\">\n",
       "      <th></th>\n",
       "      <th>na_sales</th>\n",
       "      <th>eu_sales</th>\n",
       "      <th>jp_sales</th>\n",
       "      <th>other_sales</th>\n",
       "      <th>total_sales</th>\n",
       "      <th>na_share</th>\n",
       "      <th>eu_share</th>\n",
       "      <th>jp_share</th>\n",
       "      <th>other_share</th>\n",
       "    </tr>\n",
       "    <tr>\n",
       "      <th>platform</th>\n",
       "      <th></th>\n",
       "      <th></th>\n",
       "      <th></th>\n",
       "      <th></th>\n",
       "      <th></th>\n",
       "      <th></th>\n",
       "      <th></th>\n",
       "      <th></th>\n",
       "      <th></th>\n",
       "    </tr>\n",
       "  </thead>\n",
       "  <tbody>\n",
       "    <tr>\n",
       "      <td>PS2</td>\n",
       "      <td>572.92</td>\n",
       "      <td>332.63</td>\n",
       "      <td>137.54</td>\n",
       "      <td>190.47</td>\n",
       "      <td>1233.56</td>\n",
       "      <td>0.156721</td>\n",
       "      <td>0.154835</td>\n",
       "      <td>0.158427</td>\n",
       "      <td>0.258037</td>\n",
       "    </tr>\n",
       "    <tr>\n",
       "      <td>PS3</td>\n",
       "      <td>390.13</td>\n",
       "      <td>327.21</td>\n",
       "      <td>79.41</td>\n",
       "      <td>134.59</td>\n",
       "      <td>931.34</td>\n",
       "      <td>0.106719</td>\n",
       "      <td>0.152313</td>\n",
       "      <td>0.091469</td>\n",
       "      <td>0.182334</td>\n",
       "    </tr>\n",
       "    <tr>\n",
       "      <td>X360</td>\n",
       "      <td>595.74</td>\n",
       "      <td>268.32</td>\n",
       "      <td>12.30</td>\n",
       "      <td>84.88</td>\n",
       "      <td>961.24</td>\n",
       "      <td>0.162963</td>\n",
       "      <td>0.124900</td>\n",
       "      <td>0.014168</td>\n",
       "      <td>0.114990</td>\n",
       "    </tr>\n",
       "    <tr>\n",
       "      <td>Wii</td>\n",
       "      <td>486.87</td>\n",
       "      <td>258.32</td>\n",
       "      <td>68.28</td>\n",
       "      <td>77.71</td>\n",
       "      <td>891.18</td>\n",
       "      <td>0.133182</td>\n",
       "      <td>0.120245</td>\n",
       "      <td>0.078649</td>\n",
       "      <td>0.105277</td>\n",
       "    </tr>\n",
       "    <tr>\n",
       "      <td>DS</td>\n",
       "      <td>380.31</td>\n",
       "      <td>188.41</td>\n",
       "      <td>175.00</td>\n",
       "      <td>59.04</td>\n",
       "      <td>802.76</td>\n",
       "      <td>0.104033</td>\n",
       "      <td>0.087703</td>\n",
       "      <td>0.201576</td>\n",
       "      <td>0.079984</td>\n",
       "    </tr>\n",
       "  </tbody>\n",
       "</table>\n",
       "</div>"
      ],
      "text/plain": [
       "          na_sales  eu_sales  jp_sales  other_sales  total_sales  na_share  \\\n",
       "platform                                                                     \n",
       "PS2         572.92    332.63    137.54       190.47      1233.56  0.156721   \n",
       "PS3         390.13    327.21     79.41       134.59       931.34  0.106719   \n",
       "X360        595.74    268.32     12.30        84.88       961.24  0.162963   \n",
       "Wii         486.87    258.32     68.28        77.71       891.18  0.133182   \n",
       "DS          380.31    188.41    175.00        59.04       802.76  0.104033   \n",
       "\n",
       "          eu_share  jp_share  other_share  \n",
       "platform                                   \n",
       "PS2       0.154835  0.158427     0.258037  \n",
       "PS3       0.152313  0.091469     0.182334  \n",
       "X360      0.124900  0.014168     0.114990  \n",
       "Wii       0.120245  0.078649     0.105277  \n",
       "DS        0.087703  0.201576     0.079984  "
      ]
     },
     "execution_count": 363,
     "metadata": {},
     "output_type": "execute_result"
    }
   ],
   "source": [
    "eu=df.groupby('platform')[['na_sales','eu_sales','jp_sales','other_sales','total_sales']].sum().sort_values('eu_sales',ascending=False)\n",
    "eu['na_share']=eu['na_sales']/df['na_sales'].sum()\n",
    "eu['eu_share']=eu['eu_sales']/df['eu_sales'].sum()\n",
    "eu['jp_share']=eu['jp_sales']/df['jp_sales'].sum()\n",
    "eu['other_share']=eu['other_sales']/df['other_sales'].sum()\n",
    "eu=eu.head()\n",
    "eu"
   ]
  },
  {
   "cell_type": "code",
   "execution_count": 364,
   "metadata": {},
   "outputs": [
    {
     "data": {
      "text/plain": [
       "Text(0.5, 1.0, 'Top 5 platforms in Eu region')"
      ]
     },
     "execution_count": 364,
     "metadata": {},
     "output_type": "execute_result"
    },
    {
     "data": {
      "image/png": "[encoded data removed]",
      "text/plain": [
       "<Figure size 432x288 with 1 Axes>"
      ]
     },
     "metadata": {
      "needs_background": "light"
     },
     "output_type": "display_data"
    }
   ],
   "source": [
    "eu[['na_share','eu_share','jp_share']].plot(kind='bar',stacked=True)\n",
    "plt.xlabel('platforms')\n",
    "plt.ylabel('Market share percentage')\n",
    "plt.title('Top 5 platforms in Eu region')"
   ]
  },
  {
   "cell_type": "markdown",
   "metadata": {},
   "source": [
    "PS2 has the highest market share for eu region."
   ]
  },
  {
   "cell_type": "markdown",
   "metadata": {},
   "source": [
    "Market share of different regions for the top 5 platforms in region jp"
   ]
  },
  {
   "cell_type": "code",
   "execution_count": 365,
   "metadata": {},
   "outputs": [
    {
     "data": {
      "text/html": [
       "<div>\n",
       "<style scoped>\n",
       "    .dataframe tbody tr th:only-of-type {\n",
       "        vertical-align: middle;\n",
       "    }\n",
       "\n",
       "    .dataframe tbody tr th {\n",
       "        vertical-align: top;\n",
       "    }\n",
       "\n",
       "    .dataframe thead th {\n",
       "        text-align: right;\n",
       "    }\n",
       "</style>\n",
       "<table border=\"1\" class=\"dataframe\">\n",
       "  <thead>\n",
       "    <tr style=\"text-align: right;\">\n",
       "      <th></th>\n",
       "      <th>na_sales</th>\n",
       "      <th>eu_sales</th>\n",
       "      <th>jp_sales</th>\n",
       "      <th>other_sales</th>\n",
       "      <th>total_sales</th>\n",
       "      <th>na_share</th>\n",
       "      <th>eu_share</th>\n",
       "      <th>jp_share</th>\n",
       "      <th>other_share</th>\n",
       "    </tr>\n",
       "    <tr>\n",
       "      <th>platform</th>\n",
       "      <th></th>\n",
       "      <th></th>\n",
       "      <th></th>\n",
       "      <th></th>\n",
       "      <th></th>\n",
       "      <th></th>\n",
       "      <th></th>\n",
       "      <th></th>\n",
       "      <th></th>\n",
       "    </tr>\n",
       "  </thead>\n",
       "  <tbody>\n",
       "    <tr>\n",
       "      <td>DS</td>\n",
       "      <td>380.31</td>\n",
       "      <td>188.41</td>\n",
       "      <td>175.00</td>\n",
       "      <td>59.04</td>\n",
       "      <td>802.76</td>\n",
       "      <td>0.104033</td>\n",
       "      <td>0.087703</td>\n",
       "      <td>0.201576</td>\n",
       "      <td>0.079984</td>\n",
       "    </tr>\n",
       "    <tr>\n",
       "      <td>PS2</td>\n",
       "      <td>572.92</td>\n",
       "      <td>332.63</td>\n",
       "      <td>137.54</td>\n",
       "      <td>190.47</td>\n",
       "      <td>1233.56</td>\n",
       "      <td>0.156721</td>\n",
       "      <td>0.154835</td>\n",
       "      <td>0.158427</td>\n",
       "      <td>0.258037</td>\n",
       "    </tr>\n",
       "    <tr>\n",
       "      <td>3DS</td>\n",
       "      <td>82.65</td>\n",
       "      <td>61.27</td>\n",
       "      <td>100.62</td>\n",
       "      <td>13.27</td>\n",
       "      <td>257.81</td>\n",
       "      <td>0.022609</td>\n",
       "      <td>0.028520</td>\n",
       "      <td>0.115900</td>\n",
       "      <td>0.017977</td>\n",
       "    </tr>\n",
       "    <tr>\n",
       "      <td>PS3</td>\n",
       "      <td>390.13</td>\n",
       "      <td>327.21</td>\n",
       "      <td>79.41</td>\n",
       "      <td>134.59</td>\n",
       "      <td>931.34</td>\n",
       "      <td>0.106719</td>\n",
       "      <td>0.152313</td>\n",
       "      <td>0.091469</td>\n",
       "      <td>0.182334</td>\n",
       "    </tr>\n",
       "    <tr>\n",
       "      <td>PSP</td>\n",
       "      <td>107.27</td>\n",
       "      <td>65.62</td>\n",
       "      <td>75.88</td>\n",
       "      <td>40.76</td>\n",
       "      <td>289.53</td>\n",
       "      <td>0.029343</td>\n",
       "      <td>0.030545</td>\n",
       "      <td>0.087403</td>\n",
       "      <td>0.055219</td>\n",
       "    </tr>\n",
       "  </tbody>\n",
       "</table>\n",
       "</div>"
      ],
      "text/plain": [
       "          na_sales  eu_sales  jp_sales  other_sales  total_sales  na_share  \\\n",
       "platform                                                                     \n",
       "DS          380.31    188.41    175.00        59.04       802.76  0.104033   \n",
       "PS2         572.92    332.63    137.54       190.47      1233.56  0.156721   \n",
       "3DS          82.65     61.27    100.62        13.27       257.81  0.022609   \n",
       "PS3         390.13    327.21     79.41       134.59       931.34  0.106719   \n",
       "PSP         107.27     65.62     75.88        40.76       289.53  0.029343   \n",
       "\n",
       "          eu_share  jp_share  other_share  \n",
       "platform                                   \n",
       "DS        0.087703  0.201576     0.079984  \n",
       "PS2       0.154835  0.158427     0.258037  \n",
       "3DS       0.028520  0.115900     0.017977  \n",
       "PS3       0.152313  0.091469     0.182334  \n",
       "PSP       0.030545  0.087403     0.055219  "
      ]
     },
     "execution_count": 365,
     "metadata": {},
     "output_type": "execute_result"
    }
   ],
   "source": [
    "jp=df.groupby('platform')[['na_sales','eu_sales','jp_sales','other_sales','total_sales']].sum().sort_values('jp_sales',ascending=False)\n",
    "jp['na_share']=jp['na_sales']/df['na_sales'].sum()\n",
    "jp['eu_share']=jp['eu_sales']/df['eu_sales'].sum()\n",
    "jp['jp_share']=jp['jp_sales']/df['jp_sales'].sum()\n",
    "jp['other_share']=jp['other_sales']/df['other_sales'].sum()\n",
    "jp=jp.head()\n",
    "jp"
   ]
  },
  {
   "cell_type": "code",
   "execution_count": 366,
   "metadata": {},
   "outputs": [
    {
     "data": {
      "text/plain": [
       "Text(0.5, 1.0, 'Top 5 platforms in Jp region')"
      ]
     },
     "execution_count": 366,
     "metadata": {},
     "output_type": "execute_result"
    },
    {
     "data": {
      "image/png": "[encoded data removed]",
      "text/plain": [
       "<Figure size 432x288 with 1 Axes>"
      ]
     },
     "metadata": {
      "needs_background": "light"
     },
     "output_type": "display_data"
    }
   ],
   "source": [
    "jp[['na_share','eu_share','jp_share']].plot(kind='bar',stacked=True)\n",
    "plt.xlabel('platforms')\n",
    "plt.ylabel('Market share percentage')\n",
    "plt.title('Top 5 platforms in Jp region')"
   ]
  },
  {
   "cell_type": "markdown",
   "metadata": {},
   "source": [
    "DS has the highest market share for jp."
   ]
  },
  {
   "cell_type": "code",
   "execution_count": 367,
   "metadata": {},
   "outputs": [],
   "source": [
    "na=na.append(eu)\n",
    "na=na.append(jp)"
   ]
  },
  {
   "cell_type": "code",
   "execution_count": 368,
   "metadata": {},
   "outputs": [
    {
     "data": {
      "text/html": [
       "<div>\n",
       "<style scoped>\n",
       "    .dataframe tbody tr th:only-of-type {\n",
       "        vertical-align: middle;\n",
       "    }\n",
       "\n",
       "    .dataframe tbody tr th {\n",
       "        vertical-align: top;\n",
       "    }\n",
       "\n",
       "    .dataframe thead th {\n",
       "        text-align: right;\n",
       "    }\n",
       "</style>\n",
       "<table border=\"1\" class=\"dataframe\">\n",
       "  <thead>\n",
       "    <tr style=\"text-align: right;\">\n",
       "      <th></th>\n",
       "      <th>platform</th>\n",
       "      <th>na_sales</th>\n",
       "      <th>eu_sales</th>\n",
       "      <th>jp_sales</th>\n",
       "      <th>other_sales</th>\n",
       "      <th>total_sales</th>\n",
       "      <th>na_share</th>\n",
       "      <th>eu_share</th>\n",
       "      <th>jp_share</th>\n",
       "      <th>other_share</th>\n",
       "    </tr>\n",
       "  </thead>\n",
       "  <tbody>\n",
       "    <tr>\n",
       "      <td>0</td>\n",
       "      <td>X360</td>\n",
       "      <td>595.74</td>\n",
       "      <td>268.32</td>\n",
       "      <td>12.30</td>\n",
       "      <td>84.88</td>\n",
       "      <td>961.24</td>\n",
       "      <td>0.162963</td>\n",
       "      <td>0.124900</td>\n",
       "      <td>0.014168</td>\n",
       "      <td>0.114990</td>\n",
       "    </tr>\n",
       "    <tr>\n",
       "      <td>1</td>\n",
       "      <td>PS2</td>\n",
       "      <td>572.92</td>\n",
       "      <td>332.63</td>\n",
       "      <td>137.54</td>\n",
       "      <td>190.47</td>\n",
       "      <td>1233.56</td>\n",
       "      <td>0.156721</td>\n",
       "      <td>0.154835</td>\n",
       "      <td>0.158427</td>\n",
       "      <td>0.258037</td>\n",
       "    </tr>\n",
       "    <tr>\n",
       "      <td>2</td>\n",
       "      <td>Wii</td>\n",
       "      <td>486.87</td>\n",
       "      <td>258.32</td>\n",
       "      <td>68.28</td>\n",
       "      <td>77.71</td>\n",
       "      <td>891.18</td>\n",
       "      <td>0.133182</td>\n",
       "      <td>0.120245</td>\n",
       "      <td>0.078649</td>\n",
       "      <td>0.105277</td>\n",
       "    </tr>\n",
       "    <tr>\n",
       "      <td>3</td>\n",
       "      <td>PS3</td>\n",
       "      <td>390.13</td>\n",
       "      <td>327.21</td>\n",
       "      <td>79.41</td>\n",
       "      <td>134.59</td>\n",
       "      <td>931.34</td>\n",
       "      <td>0.106719</td>\n",
       "      <td>0.152313</td>\n",
       "      <td>0.091469</td>\n",
       "      <td>0.182334</td>\n",
       "    </tr>\n",
       "    <tr>\n",
       "      <td>4</td>\n",
       "      <td>DS</td>\n",
       "      <td>380.31</td>\n",
       "      <td>188.41</td>\n",
       "      <td>175.00</td>\n",
       "      <td>59.04</td>\n",
       "      <td>802.76</td>\n",
       "      <td>0.104033</td>\n",
       "      <td>0.087703</td>\n",
       "      <td>0.201576</td>\n",
       "      <td>0.079984</td>\n",
       "    </tr>\n",
       "    <tr>\n",
       "      <td>5</td>\n",
       "      <td>3DS</td>\n",
       "      <td>82.65</td>\n",
       "      <td>61.27</td>\n",
       "      <td>100.62</td>\n",
       "      <td>13.27</td>\n",
       "      <td>257.81</td>\n",
       "      <td>0.022609</td>\n",
       "      <td>0.028520</td>\n",
       "      <td>0.115900</td>\n",
       "      <td>0.017977</td>\n",
       "    </tr>\n",
       "    <tr>\n",
       "      <td>6</td>\n",
       "      <td>PSP</td>\n",
       "      <td>107.27</td>\n",
       "      <td>65.62</td>\n",
       "      <td>75.88</td>\n",
       "      <td>40.76</td>\n",
       "      <td>289.53</td>\n",
       "      <td>0.029343</td>\n",
       "      <td>0.030545</td>\n",
       "      <td>0.087403</td>\n",
       "      <td>0.055219</td>\n",
       "    </tr>\n",
       "  </tbody>\n",
       "</table>\n",
       "</div>"
      ],
      "text/plain": [
       "  platform  na_sales  eu_sales  jp_sales  other_sales  total_sales  na_share  \\\n",
       "0     X360    595.74    268.32     12.30        84.88       961.24  0.162963   \n",
       "1      PS2    572.92    332.63    137.54       190.47      1233.56  0.156721   \n",
       "2      Wii    486.87    258.32     68.28        77.71       891.18  0.133182   \n",
       "3      PS3    390.13    327.21     79.41       134.59       931.34  0.106719   \n",
       "4       DS    380.31    188.41    175.00        59.04       802.76  0.104033   \n",
       "5      3DS     82.65     61.27    100.62        13.27       257.81  0.022609   \n",
       "6      PSP    107.27     65.62     75.88        40.76       289.53  0.029343   \n",
       "\n",
       "   eu_share  jp_share  other_share  \n",
       "0  0.124900  0.014168     0.114990  \n",
       "1  0.154835  0.158427     0.258037  \n",
       "2  0.120245  0.078649     0.105277  \n",
       "3  0.152313  0.091469     0.182334  \n",
       "4  0.087703  0.201576     0.079984  \n",
       "5  0.028520  0.115900     0.017977  \n",
       "6  0.030545  0.087403     0.055219  "
      ]
     },
     "execution_count": 368,
     "metadata": {},
     "output_type": "execute_result"
    }
   ],
   "source": [
    "na=na.drop_duplicates()\n",
    "na.reset_index(inplace=True)\n",
    "na"
   ]
  },
  {
   "cell_type": "code",
   "execution_count": 369,
   "metadata": {},
   "outputs": [],
   "source": [
    "na.set_index('platform',inplace=True)"
   ]
  },
  {
   "cell_type": "code",
   "execution_count": 370,
   "metadata": {},
   "outputs": [
    {
     "data": {
      "text/plain": [
       "Text(0.5, 1.0, 'Market share of top  platforms')"
      ]
     },
     "execution_count": 370,
     "metadata": {},
     "output_type": "execute_result"
    },
    {
     "data": {
      "image/png": "[encoded data removed]",
      "text/plain": [
       "<Figure size 720x576 with 1 Axes>"
      ]
     },
     "metadata": {
      "needs_background": "light"
     },
     "output_type": "display_data"
    }
   ],
   "source": [
    "na[['na_share','eu_share','jp_share']].plot(kind='bar',stacked=True,figsize=(10,8),grid=True)\n",
    "#plt.xticks(na['platform'].to_list())\n",
    "plt.xlabel('platforms')\n",
    "plt.ylabel('Market share percentage')\n",
    "plt.title('Market share of top  platforms')"
   ]
  },
  {
   "cell_type": "markdown",
   "metadata": {},
   "source": [
    "For eu region X360 has the third highest share and for jp it has the lowest share.PS2 which is best selling in eu has second highest market share for na and jp.DS which has highest market share for jp is fifth in market share for na and eu.   "
   ]
  },
  {
   "cell_type": "markdown",
   "metadata": {},
   "source": [
    "Wii and PS3 also performs quite well in all these regions. Wii is 3rd for market share in na,4th for eu and 7th for jp.PS3 is 4th for na,2nd for eu and sixth for jp."
   ]
  },
  {
   "cell_type": "markdown",
   "metadata": {},
   "source": [
    "3DS and PSP have higher market share for jp then for eu and na."
   ]
  },
  {
   "cell_type": "markdown",
   "metadata": {},
   "source": [
    "# Most profitable genre for each region"
   ]
  },
  {
   "cell_type": "code",
   "execution_count": 371,
   "metadata": {},
   "outputs": [
    {
     "data": {
      "text/plain": [
       "genre\n",
       "Action          767.18\n",
       "Sports          604.48\n",
       "Shooter         503.00\n",
       "Misc            377.22\n",
       "Role-Playing    299.59\n",
       "Name: na_sales, dtype: float64"
      ]
     },
     "execution_count": 371,
     "metadata": {},
     "output_type": "execute_result"
    }
   ],
   "source": [
    "na_genre=df.groupby('genre')['na_sales'].sum().sort_values(ascending=False)\n",
    "na_genre.head()"
   ]
  },
  {
   "cell_type": "code",
   "execution_count": 372,
   "metadata": {},
   "outputs": [
    {
     "data": {
      "text/plain": [
       "genre\n",
       "Action     475.26\n",
       "Sports     346.61\n",
       "Shooter    297.75\n",
       "Racing     203.13\n",
       "Misc       200.44\n",
       "Name: eu_sales, dtype: float64"
      ]
     },
     "execution_count": 372,
     "metadata": {},
     "output_type": "execute_result"
    }
   ],
   "source": [
    "eu_genre=df.groupby('genre')['eu_sales'].sum().sort_values(ascending=False)\n",
    "eu_genre.head()"
   ]
  },
  {
   "cell_type": "code",
   "execution_count": 373,
   "metadata": {},
   "outputs": [
    {
     "data": {
      "text/plain": [
       "genre\n",
       "Role-Playing    260.41\n",
       "Action          135.13\n",
       "Misc             89.75\n",
       "Sports           82.71\n",
       "Platform         56.93\n",
       "Name: jp_sales, dtype: float64"
      ]
     },
     "execution_count": 373,
     "metadata": {},
     "output_type": "execute_result"
    }
   ],
   "source": [
    "jp_genre=df.groupby('genre')['jp_sales'].sum().sort_values(ascending=False)\n",
    "jp_genre.head()"
   ]
  },
  {
   "cell_type": "code",
   "execution_count": 374,
   "metadata": {},
   "outputs": [
    {
     "data": {
      "text/plain": [
       "Text(0, 0.5, 'sales')"
      ]
     },
     "execution_count": 374,
     "metadata": {},
     "output_type": "execute_result"
    },
    {
     "data": {
      "image/png": "[encoded data removed]",
      "text/plain": [
       "<Figure size 720x576 with 1 Axes>"
      ]
     },
     "metadata": {
      "needs_background": "light"
     },
     "output_type": "display_data"
    }
   ],
   "source": [
    "genre_df=(pd.concat([df.groupby('genre')['na_sales'].sum(),\n",
    "                     df.groupby('genre')['eu_sales'].sum(),\n",
    "                     df.groupby('genre')['jp_sales'].sum()],axis=1))\n",
    "genre_df.plot(kind='bar',stacked=True,figsize=(10,8))\n",
    "plt.xlabel('genres')\n",
    "plt.ylabel('sales')"
   ]
  },
  {
   "cell_type": "markdown",
   "metadata": {},
   "source": [
    "The most profitable genre for na and eu region is action followed by sports then shooter but for jp region the most profitable genre is role playing followed by action but shooter is not even in the top 5. Hence we cannot generalise genres with high sales and low sales."
   ]
  },
  {
   "cell_type": "code",
   "execution_count": 375,
   "metadata": {},
   "outputs": [
    {
     "data": {
      "text/html": [
       "<div>\n",
       "<style scoped>\n",
       "    .dataframe tbody tr th:only-of-type {\n",
       "        vertical-align: middle;\n",
       "    }\n",
       "\n",
       "    .dataframe tbody tr th {\n",
       "        vertical-align: top;\n",
       "    }\n",
       "\n",
       "    .dataframe thead th {\n",
       "        text-align: right;\n",
       "    }\n",
       "</style>\n",
       "<table border=\"1\" class=\"dataframe\">\n",
       "  <thead>\n",
       "    <tr style=\"text-align: right;\">\n",
       "      <th></th>\n",
       "      <th>eu_sales</th>\n",
       "      <th>jp_sales</th>\n",
       "      <th>na_sales</th>\n",
       "    </tr>\n",
       "    <tr>\n",
       "      <th>rating</th>\n",
       "      <th></th>\n",
       "      <th></th>\n",
       "      <th></th>\n",
       "    </tr>\n",
       "  </thead>\n",
       "  <tbody>\n",
       "    <tr>\n",
       "      <td>AO</td>\n",
       "      <td>0.000284</td>\n",
       "      <td>0.000000</td>\n",
       "      <td>0.000345</td>\n",
       "    </tr>\n",
       "    <tr>\n",
       "      <td>E</td>\n",
       "      <td>0.329566</td>\n",
       "      <td>0.223668</td>\n",
       "      <td>0.351399</td>\n",
       "    </tr>\n",
       "    <tr>\n",
       "      <td>E10+</td>\n",
       "      <td>0.087963</td>\n",
       "      <td>0.046766</td>\n",
       "      <td>0.096371</td>\n",
       "    </tr>\n",
       "    <tr>\n",
       "      <td>EC</td>\n",
       "      <td>0.000051</td>\n",
       "      <td>0.000000</td>\n",
       "      <td>0.000558</td>\n",
       "    </tr>\n",
       "    <tr>\n",
       "      <td>M</td>\n",
       "      <td>0.227340</td>\n",
       "      <td>0.071185</td>\n",
       "      <td>0.203815</td>\n",
       "    </tr>\n",
       "    <tr>\n",
       "      <td>RP</td>\n",
       "      <td>0.000014</td>\n",
       "      <td>0.000000</td>\n",
       "      <td>0.000000</td>\n",
       "    </tr>\n",
       "    <tr>\n",
       "      <td>T</td>\n",
       "      <td>0.193848</td>\n",
       "      <td>0.167953</td>\n",
       "      <td>0.203675</td>\n",
       "    </tr>\n",
       "  </tbody>\n",
       "</table>\n",
       "</div>"
      ],
      "text/plain": [
       "        eu_sales  jp_sales  na_sales\n",
       "rating                              \n",
       "AO      0.000284  0.000000  0.000345\n",
       "E       0.329566  0.223668  0.351399\n",
       "E10+    0.087963  0.046766  0.096371\n",
       "EC      0.000051  0.000000  0.000558\n",
       "M       0.227340  0.071185  0.203815\n",
       "RP      0.000014  0.000000  0.000000\n",
       "T       0.193848  0.167953  0.203675"
      ]
     },
     "execution_count": 375,
     "metadata": {},
     "output_type": "execute_result"
    }
   ],
   "source": [
    "#effect of rating on sales in different regions\n",
    "r=df.pivot_table(index='rating',values=['na_sales','eu_sales','jp_sales'],aggfunc='sum')\n",
    "r['eu_sales']=r['eu_sales']/df['eu_sales'].sum()\n",
    "r['jp_sales']=r['jp_sales']/df['jp_sales'].sum()\n",
    "r['na_sales']=r['na_sales']/df['na_sales'].sum()\n",
    "r"
   ]
  },
  {
   "cell_type": "code",
   "execution_count": 376,
   "metadata": {},
   "outputs": [
    {
     "data": {
      "text/plain": [
       "Text(0, 0.5, 'sales')"
      ]
     },
     "execution_count": 376,
     "metadata": {},
     "output_type": "execute_result"
    },
    {
     "data": {
      "image/png": "[encoded data removed]",
      "text/plain": [
       "<Figure size 432x288 with 1 Axes>"
      ]
     },
     "metadata": {
      "needs_background": "light"
     },
     "output_type": "display_data"
    }
   ],
   "source": [
    "r.plot(kind='bar',stacked=True)\n",
    "plt.xlabel('rating')\n",
    "plt.ylabel('sales')"
   ]
  },
  {
   "cell_type": "markdown",
   "metadata": {},
   "source": [
    "The sales for games with rating E in each region are significantly higher than others.The second highest sales for eu and na are for rating M and for jp are for rating T."
   ]
  },
  {
   "cell_type": "markdown",
   "metadata": {},
   "source": [
    "# Testing of Hypothesis"
   ]
  },
  {
   "cell_type": "markdown",
   "metadata": {},
   "source": [
    "Null Hypothesis:The average user score for platforms Xbox One and PC is same.\n",
    "Alternate Hypothesis:The average user score for these two platforms is not same."
   ]
  },
  {
   "cell_type": "markdown",
   "metadata": {},
   "source": [
    "To test this hypothesis we will use t test for independent samples as the user scores on one platform are independent of that on the other platforms and these two samples have been drawn from the same population video games user score."
   ]
  },
  {
   "cell_type": "code",
   "execution_count": 377,
   "metadata": {},
   "outputs": [
    {
     "name": "stdout",
     "output_type": "stream",
     "text": [
      "pvalue: 0.00017587190481386012\n",
      "We reject null hypothesis\n"
     ]
    }
   ],
   "source": [
    "xbox=df[df['platform']=='XOne']['user_score'].copy()\n",
    "xbox.dropna(inplace=True)\n",
    "pc=df[df['platform']=='PC']['user_score'].copy()\n",
    "pc.dropna(inplace=True)\n",
    "from scipy import stats as st\n",
    "alpha=0.5\n",
    "results=st.ttest_ind(xbox,pc)\n",
    "print('pvalue:',results.pvalue)\n",
    "if results.pvalue<alpha:\n",
    "    print('We reject null hypothesis')\n",
    "else:\n",
    "    print('We do not reject null hypothesis')"
   ]
  },
  {
   "cell_type": "markdown",
   "metadata": {},
   "source": [
    "The null hypothesis is rejected which means that the average user score for Xbox One and PC platforms differs significantly.The p value is very small,close to 0 which implies there is a very small probability of getting a difference of this magnitude between the average user scores for these two platforms.  Since the p value is so small we would get the same result on reducing alpha value to 0.01. Also because the p value is so small it means that there is a huge difference between the average user score for these platforms."
   ]
  },
  {
   "cell_type": "markdown",
   "metadata": {},
   "source": [
    "Null Hypothesis: Average user score for Action and Sports genres are same.\n",
    "Alternate Hypothesis: Average user score for Action and Sports genres is different."
   ]
  },
  {
   "cell_type": "markdown",
   "metadata": {},
   "source": [
    "We will use t test for independent samples as the user score for action games does not depend on the user score for sports games and vice versa, hence these samples are independent.Also both these are samples from the same population video games user scores."
   ]
  },
  {
   "cell_type": "code",
   "execution_count": 378,
   "metadata": {},
   "outputs": [
    {
     "name": "stdout",
     "output_type": "stream",
     "text": [
      "p value: 0.10840907847900544\n",
      "We do not reject null hypothesis\n"
     ]
    }
   ],
   "source": [
    "action=df[df['genre']=='Action']['user_score'].copy()\n",
    "action.dropna(inplace=True)\n",
    "sports=df[df['genre']=='Sports']['user_score'].copy()\n",
    "sports.dropna(inplace=True)\n",
    "results2=st.ttest_ind(action,sports)\n",
    "alpha=0.05\n",
    "print('p value:',results2.pvalue)\n",
    "if results2.pvalue<alpha:\n",
    "    print('We reject null hypothesis')\n",
    "else:\n",
    "    print('We do not reject null hypothesis')"
   ]
  },
  {
   "cell_type": "markdown",
   "metadata": {},
   "source": [
    "The null hypothesis is not rejected at 5% level of significance which means that the average user score for action and sports genre does not differ significantly.There is a 10.4% chance of getting a difference of this magnitude."
   ]
  },
  {
   "cell_type": "markdown",
   "metadata": {},
   "source": [
    "# Conclusion"
   ]
  },
  {
   "cell_type": "markdown",
   "metadata": {},
   "source": [
    "The data available to us is from 1980 to 2016.The sales for games in the data rose from 1980 to 2008 and then fell till 2016 on average. The data contained missing values for critic score,user score and ESRB rating mainly for old time period (from 1980 to 1999).We filled missing scores and ratings with average scores for user and critic score respectively only for those games for which these scores were available on other platforms. For identifying profitable games in year 2017 we consider data from 1999 to 2016."
   ]
  },
  {
   "cell_type": "markdown",
   "metadata": {},
   "source": [
    "Analyzing the data we find average lifespan of a platform is 7 years. The most popular platforms in the data are PS2, X360, PS3, Wii, DS,PS these are the highest grossing platforms in our data.PS2 was popular from 2000 to 2016 then it started fading,then X360,PS3,Wii became popular,their sales rose from 2006 to 2010 and then they started fading.DS made it's first sale in 1985 and then next from 2005 to 2010.PS was in business from 1994 to 2003.Growing platforms in the data are PS4,XOne,PSV,WiiU,3DS.Shrinking platforms are X360,Wii,PSP,PS3,PC\n",
    "and all popular platforms have either faded or are shrinking."
   ]
  },
  {
   "cell_type": "markdown",
   "metadata": {},
   "source": [
    "To determine the effect of reviews on sales of games we selected platform X360 because we have highest percentage of scores for this platform.We found that sales depend linearly on critic scores more than on user scores."
   ]
  },
  {
   "cell_type": "markdown",
   "metadata": {},
   "source": [
    "Effect of genre on sales:Action games are most popular and most profitable so are sports games. But shooter games are sixth in popularity but 3rd in sales.Adventure games have high number of sales but very low total sales.We can not generalise genres by high and low sales as on the most popular platforms in our data different genres had highest share of total sales.Also the most profitable genre for na and eu region is action followed by sports then shooter but for jp region the most profitable genre is role playing followed by action but shooter is not even in the top 5."
   ]
  },
  {
   "cell_type": "markdown",
   "metadata": {},
   "source": [
    "X360 has highest market share for na.For eu region X360 has the third highest share and for jp it has the 7th highest share.PS2 is best selling in eu and has second highest market share for na and jp.DS has highest market share for jp and is fifth in market share for eu and na. Wii and PS3 also performs quite well in all these regions. Wii is 3rd for market share in na,4th for eu and 6th for jp.PS3 is 4th for na and jp,2nd for eu."
   ]
  },
  {
   "cell_type": "markdown",
   "metadata": {},
   "source": [
    "The highest sales in each region are for rating E.The second highest sales for eu and na are for rating M and for jp are for rating T."
   ]
  },
  {
   "cell_type": "markdown",
   "metadata": {},
   "source": [
    "After testing we conclude that the average user score for Xbox One and PC platforms differs significantly and the average user score for action and sports video games does not differ significantly."
   ]
  }
 ],
 "metadata": {
  "kernelspec": {
   "display_name": "Python 3",
   "language": "python",
   "name": "python3"
  },
  "language_info": {
   "codemirror_mode": {
    "name": "ipython",
    "version": 3
   },
   "file_extension": ".py",
   "mimetype": "text/x-python",
   "name": "python",
   "nbconvert_exporter": "python",
   "pygments_lexer": "ipython3",
   "version": "3.7.0"
  }
 },
 "nbformat": 4,
 "nbformat_minor": 2
}
